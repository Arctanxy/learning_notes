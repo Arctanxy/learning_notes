{
 "cells": [
  {
   "cell_type": "code",
   "execution_count": 26,
   "metadata": {},
   "outputs": [
    {
     "name": "stdout",
     "output_type": "stream",
     "text": [
      "<class 'pandas.core.frame.DataFrame'>\n",
      "RangeIndex: 18837 entries, 0 to 18836\n",
      "Data columns (total 8 columns):\n",
      "IS_TYPE        18832 non-null object\n",
      "IS_NAME        18837 non-null object\n",
      "COORDINATE     18837 non-null object\n",
      "XZQHSZ_DM      18837 non-null object\n",
      "ADDRESS        18837 non-null object\n",
      "TAG            18757 non-null object\n",
      "RATING         12733 non-null float64\n",
      "COMMENT_NUM    11663 non-null float64\n",
      "dtypes: float64(2), object(6)\n",
      "memory usage: 1.1+ MB\n"
     ]
    }
   ],
   "source": [
    "# 合肥美食地图\n",
    "import pandas as pd \n",
    "import matplotlib.pyplot as plt \n",
    "%matplotlib inline\n",
    "data = pd.read_csv('items.csv')\n",
    "data.info()"
   ]
  },
  {
   "cell_type": "code",
   "execution_count": 27,
   "metadata": {},
   "outputs": [
    {
     "name": "stdout",
     "output_type": "stream",
     "text": [
      "<class 'pandas.core.frame.DataFrame'>\n",
      "Int64Index: 4364 entries, 0 to 18833\n",
      "Data columns (total 8 columns):\n",
      "IS_TYPE        4363 non-null object\n",
      "IS_NAME        4364 non-null object\n",
      "COORDINATE     4364 non-null object\n",
      "XZQHSZ_DM      4364 non-null object\n",
      "ADDRESS        4364 non-null object\n",
      "TAG            4340 non-null object\n",
      "RATING         2661 non-null float64\n",
      "COMMENT_NUM    2429 non-null float64\n",
      "dtypes: float64(2), object(6)\n",
      "memory usage: 306.8+ KB\n"
     ]
    }
   ],
   "source": [
    "data = data.drop_duplicates()\n",
    "data.info()"
   ]
  },
  {
   "cell_type": "code",
   "execution_count": 28,
   "metadata": {},
   "outputs": [
    {
     "name": "stdout",
     "output_type": "stream",
     "text": [
      "<class 'pandas.core.frame.DataFrame'>\n",
      "Int64Index: 4340 entries, 0 to 18833\n",
      "Data columns (total 8 columns):\n",
      "IS_TYPE        4339 non-null object\n",
      "IS_NAME        4340 non-null object\n",
      "COORDINATE     4340 non-null object\n",
      "XZQHSZ_DM      4340 non-null object\n",
      "ADDRESS        4340 non-null object\n",
      "TAG            4340 non-null object\n",
      "RATING         2661 non-null float64\n",
      "COMMENT_NUM    2429 non-null float64\n",
      "dtypes: float64(2), object(6)\n",
      "memory usage: 305.2+ KB\n"
     ]
    }
   ],
   "source": [
    "import numpy as np \n",
    "data1 = data[data['TAG'].apply(lambda x:True if x is not np.nan else False)]\n",
    "data1.info()"
   ]
  },
  {
   "cell_type": "code",
   "execution_count": 29,
   "metadata": {
    "scrolled": true
   },
   "outputs": [
    {
     "data": {
      "text/plain": [
       "中餐厅      2729\n",
       "小吃快餐店    1050\n",
       "其他        141\n",
       "外国餐厅      126\n",
       "蛋糕甜品店      99\n",
       "茶座         31\n",
       "咖啡厅        31\n",
       "快捷酒店       25\n",
       "农家院        17\n",
       "美食         17\n",
       "星级酒店       15\n",
       "公司          9\n",
       "酒吧          8\n",
       "住宅区         6\n",
       "商铺          6\n",
       "市场          4\n",
       "休闲广场        3\n",
       "亲子教育        2\n",
       "农林园艺        2\n",
       "文物古迹        2\n",
       "超市          2\n",
       "停车场         1\n",
       "科研机构        1\n",
       "游戏场所        1\n",
       "路口          1\n",
       "购物          1\n",
       "交通设施        1\n",
       "培训机构        1\n",
       "各级政府        1\n",
       "风景区         1\n",
       "度假村         1\n",
       "公检法机构       1\n",
       "厂矿          1\n",
       "美容          1\n",
       "港口          1\n",
       "家居建材        1\n",
       "dtype: int64"
      ]
     },
     "execution_count": 29,
     "metadata": {},
     "output_type": "execute_result"
    }
   ],
   "source": [
    "tags = pd.Series([tag.split(';')[-1] for tag in data1.TAG.values])\n",
    "tags.value_counts()"
   ]
  },
  {
   "cell_type": "code",
   "execution_count": 34,
   "metadata": {
    "scrolled": true
   },
   "outputs": [
    {
     "data": {
      "text/plain": [
       "(<matplotlib.axes._subplots.AxesSubplot at 0xb239860>, 5.0    478\n",
       " 3.5    351\n",
       " 4.0    280\n",
       " 4.5    192\n",
       " 4.3    163\n",
       " 4.4    134\n",
       " 3.0    126\n",
       " 4.2    119\n",
       " 4.6    119\n",
       " 4.7    116\n",
       " 4.8     88\n",
       " 4.1     85\n",
       " 0.0     46\n",
       " 3.9     44\n",
       " 3.7     44\n",
       " 3.8     43\n",
       " 4.9     41\n",
       " 3.6     26\n",
       " 3.2     21\n",
       " 3.3     18\n",
       " 2.0     18\n",
       " 1.0     16\n",
       " 1.8     12\n",
       " 2.3     10\n",
       " 2.5     10\n",
       " 2.2      8\n",
       " 3.4      8\n",
       " 2.4      7\n",
       " 2.9      7\n",
       " 1.4      6\n",
       " 2.8      6\n",
       " 3.1      5\n",
       " 1.3      4\n",
       " 1.6      3\n",
       " 2.1      2\n",
       " 2.7      2\n",
       " 1.7      1\n",
       " 2.6      1\n",
       " 1.9      1\n",
       " Name: RATING, dtype: int64)"
      ]
     },
     "execution_count": 34,
     "metadata": {},
     "output_type": "execute_result"
    },
    {
     "data": {
      "image/png": "[encoded data removed]",
      "text/plain": [
       "<Figure size 432x288 with 1 Axes>"
      ]
     },
     "metadata": {},
     "output_type": "display_data"
    }
   ],
   "source": [
    "# 评分\n",
    "data2 = data[data['RATING'].apply(lambda x:True if x is not np.nan else False)]\n",
    "data2.RATING.hist(bins=20),data2.RATING.value_counts()"
   ]
  },
  {
   "cell_type": "code",
   "execution_count": 36,
   "metadata": {},
   "outputs": [
    {
     "data": {
      "text/plain": [
       "中餐厅      285\n",
       "小吃快餐店    129\n",
       "其他        20\n",
       "蛋糕甜品店     13\n",
       "外国餐厅       8\n",
       "茶座         6\n",
       "酒吧         3\n",
       "快捷酒店       3\n",
       "农家院        3\n",
       "农林园艺       2\n",
       "咖啡厅        2\n",
       "美容         1\n",
       "港口         1\n",
       "商铺         1\n",
       "美食         1\n",
       "dtype: int64"
      ]
     },
     "execution_count": 36,
     "metadata": {},
     "output_type": "execute_result"
    }
   ],
   "source": [
    "data3 = data[data['RATING']==5.0]\n",
    "tags = pd.Series([tag.split(';')[-1] for tag in data3.TAG.values])\n",
    "tags.value_counts()"
   ]
  },
  {
   "cell_type": "code",
   "execution_count": 40,
   "metadata": {},
   "outputs": [
    {
     "data": {
      "text/plain": [
       "蜀山区    24\n",
       "包河区    18\n",
       "庐阳区    17\n",
       "瑶海区     8\n",
       "肥西县     2\n",
       "长丰县     1\n",
       "Name: XZQHSZ_DM, dtype: int64"
      ]
     },
     "execution_count": 40,
     "metadata": {},
     "output_type": "execute_result"
    }
   ],
   "source": [
    "# 评论数量超过两百且评分在4.5以上的店\n",
    "nice_food = data[(data['COMMENT_NUM']==200.0)&(data['RATING']>=4.5)]\n",
    "nice_food.XZQHSZ_DM.value_counts()"
   ]
  }
 ],
 "metadata": {
  "kernelspec": {
   "display_name": "Python 3",
   "language": "python",
   "name": "python3"
  },
  "language_info": {
   "codemirror_mode": {
    "name": "ipython",
    "version": 3
   },
   "file_extension": ".py",
   "mimetype": "text/x-python",
   "name": "python",
   "nbconvert_exporter": "python",
   "pygments_lexer": "ipython3",
   "version": "3.6.3"
  }
 },
 "nbformat": 4,
 "nbformat_minor": 2
}
