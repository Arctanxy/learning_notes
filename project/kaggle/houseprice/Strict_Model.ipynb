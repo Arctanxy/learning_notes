{
 "cells": [
  {
   "cell_type": "markdown",
   "metadata": {},
   "source": [
    "# District Model of House Price"
   ]
  },
  {
   "cell_type": "markdown",
   "metadata": {},
   "source": [
    "## 1. Load Data"
   ]
  },
  {
   "cell_type": "code",
   "execution_count": 54,
   "metadata": {},
   "outputs": [],
   "source": [
    "import pandas as pd \n",
    "import numpy as np \n",
    "import seaborn as sns\n",
    "from sklearn.linear_model import Ridge\n",
    "from sklearn.model_selection import cross_val_score\n",
    "from sklearn.preprocessing import StandardScaler\n",
    "from collections import defaultdict\n",
    "# from model import score # 自己写太费劲了，暂时先用cross_val_score凑合一下\n",
    "import matplotlib.pyplot as plt\n",
    "%matplotlib inline \n",
    "\n",
    "# PATH1 = 'C:/Users/Dl/Documents/GitHub/learning_notes/project/kaggle/houseprice/data/'\n",
    "PATH = 'H:/learning_notes/project/kaggle/houseprice/data/'\n",
    "train_data = pd.read_csv(PATH + 'train.csv')\n",
    "test_data = pd.read_csv(PATH + 'test.csv')"
   ]
  },
  {
   "cell_type": "code",
   "execution_count": 55,
   "metadata": {
    "collapsed": true
   },
   "outputs": [],
   "source": [
    "train_data['AVG_PRICE'] = train_data['SalePrice']/train_data['GrLivArea']"
   ]
  },
  {
   "cell_type": "markdown",
   "metadata": {},
   "source": [
    "### MSSubClass"
   ]
  },
  {
   "cell_type": "code",
   "execution_count": 56,
   "metadata": {},
   "outputs": [
    {
     "data": {
      "text/plain": [
       "<matplotlib.axes._subplots.AxesSubplot at 0xd09c908>"
      ]
     },
     "execution_count": 56,
     "metadata": {},
     "output_type": "execute_result"
    },
    {
     "data": {
      "image/png": "[encoded data removed]",
      "text/plain": [
       "<matplotlib.figure.Figure at 0xd0bafd0>"
      ]
     },
     "metadata": {},
     "output_type": "display_data"
    }
   ],
   "source": [
    "sns.boxplot(x='MSSubClass',y='AVG_PRICE',data = train_data)"
   ]
  },
  {
   "cell_type": "markdown",
   "metadata": {},
   "source": [
    "#### modeling"
   ]
  },
  {
   "cell_type": "code",
   "execution_count": 57,
   "metadata": {},
   "outputs": [
    {
     "name": "stdout",
     "output_type": "stream",
     "text": [
      "0.0323694200949\n"
     ]
    },
    {
     "name": "stderr",
     "output_type": "stream",
     "text": [
      "H:\\ProgramData\\Anaconda3\\lib\\site-packages\\ipykernel_launcher.py:3: FutureWarning: reshape is deprecated and will raise in a subsequent release. Please use .values.reshape(...) instead\n",
      "  This is separate from the ipykernel package so we can avoid doing imports until\n",
      "H:\\ProgramData\\Anaconda3\\lib\\site-packages\\sklearn\\utils\\validation.py:475: DataConversionWarning: Data with input dtype int64 was converted to float64 by StandardScaler.\n",
      "  warnings.warn(msg, DataConversionWarning)\n"
     ]
    }
   ],
   "source": [
    "clf = Ridge()\n",
    "s = StandardScaler()\n",
    "x = train_data['MSSubClass'].reshape(-1,1)\n",
    "x = s.fit_transform(x)\n",
    "y = train_data['AVG_PRICE']\n",
    "print(np.mean(cross_val_score(clf,x,y,cv=5)))"
   ]
  },
  {
   "cell_type": "markdown",
   "metadata": {},
   "source": [
    "### MSZoning"
   ]
  },
  {
   "cell_type": "code",
   "execution_count": 58,
   "metadata": {},
   "outputs": [
    {
     "data": {
      "image/png": "[encoded data removed]",
      "text/plain": [
       "<matplotlib.figure.Figure at 0xd09cd68>"
      ]
     },
     "metadata": {},
     "output_type": "display_data"
    }
   ],
   "source": [
    "sns.boxplot(x='MSZoning',y='AVG_PRICE',data=train_data)\n",
    "train_data['MSZoning'] = train_data['MSZoning'].replace({'RL':5,'RM':3,'C (all)':1,'FV':4,'RH':2})"
   ]
  },
  {
   "cell_type": "markdown",
   "metadata": {},
   "source": [
    "#### modeling"
   ]
  },
  {
   "cell_type": "code",
   "execution_count": 59,
   "metadata": {},
   "outputs": [
    {
     "name": "stdout",
     "output_type": "stream",
     "text": [
      "0.0910288711845\n"
     ]
    }
   ],
   "source": [
    "clf = Ridge()\n",
    "x = train_data[['MSSubClass','MSZoning']]\n",
    "x = s.fit_transform(x)\n",
    "y = train_data['AVG_PRICE']\n",
    "print(np.mean(cross_val_score(clf,x,y,cv=5)))"
   ]
  },
  {
   "cell_type": "markdown",
   "metadata": {},
   "source": [
    "### LotFrontage"
   ]
  },
  {
   "cell_type": "code",
   "execution_count": 60,
   "metadata": {},
   "outputs": [
    {
     "data": {
      "text/plain": [
       "<matplotlib.axes._subplots.AxesSubplot at 0xe5e8e80>"
      ]
     },
     "execution_count": 60,
     "metadata": {},
     "output_type": "execute_result"
    },
    {
     "data": {
      "image/png": "[encoded data removed]",
      "text/plain": [
       "<matplotlib.figure.Figure at 0xe5dc240>"
      ]
     },
     "metadata": {},
     "output_type": "display_data"
    }
   ],
   "source": [
    "train_data.LotFrontage.hist()"
   ]
  },
  {
   "cell_type": "code",
   "execution_count": 61,
   "metadata": {},
   "outputs": [
    {
     "data": {
      "text/plain": [
       "(259, 0)"
      ]
     },
     "execution_count": 61,
     "metadata": {},
     "output_type": "execute_result"
    }
   ],
   "source": [
    "train_data.LotFrontage.isnull().sum(),train_data.LotArea.isnull().sum()"
   ]
  },
  {
   "cell_type": "code",
   "execution_count": 62,
   "metadata": {},
   "outputs": [
    {
     "name": "stdout",
     "output_type": "stream",
     "text": [
      "0.0895086489392\n"
     ]
    }
   ],
   "source": [
    "# fillna with the median of lotfrontage in neighborhood\n",
    "# mean works better than median\n",
    "train_data['LotFrontage'] = train_data.groupby('Neighborhood')['LotFrontage'].transform(lambda x: x.fillna(x.mean()))\n",
    "# train_data['LotFrontage'] = train_data['LotFrontage'].fillna(train_data['LotFrontage'].median())\n",
    "# train_data['LotFrontage'] = train_data['LotFrontage'].fillna(train_data['LotFrontage'].mean())\n",
    "clf = Ridge()\n",
    "x = train_data[['MSSubClass','MSZoning','LotFrontage','LotArea']]\n",
    "x = s.fit_transform(x)\n",
    "y = train_data['AVG_PRICE']\n",
    "print(np.mean(cross_val_score(clf,x,y,cv=5)))"
   ]
  },
  {
   "cell_type": "markdown",
   "metadata": {},
   "source": [
    "### Street & Alley"
   ]
  },
  {
   "cell_type": "code",
   "execution_count": 63,
   "metadata": {},
   "outputs": [
    {
     "data": {
      "text/plain": [
       "<matplotlib.axes._subplots.AxesSubplot at 0x7e3d780>"
      ]
     },
     "execution_count": 63,
     "metadata": {},
     "output_type": "execute_result"
    },
    {
     "data": {
      "image/png": "[encoded data removed]",
      "text/plain": [
       "<matplotlib.figure.Figure at 0xc820860>"
      ]
     },
     "metadata": {},
     "output_type": "display_data"
    }
   ],
   "source": [
    "train_data['Street'] = train_data['Street'].replace({'Grvl':1,'Pave':2})\n",
    "train_data['Alley'] = train_data['Alley'].fillna(train_data['Alley'].mode()[0])\n",
    "train_data['Alley'] = train_data['Alley'].replace({'Grvl':1,'Pave':2})\n",
    "sns.boxplot(x='Street',y='AVG_PRICE',data=train_data)"
   ]
  },
  {
   "cell_type": "code",
   "execution_count": 64,
   "metadata": {},
   "outputs": [
    {
     "data": {
      "text/plain": [
       "1    1419\n",
       "2      41\n",
       "Name: Alley, dtype: int64"
      ]
     },
     "execution_count": 64,
     "metadata": {},
     "output_type": "execute_result"
    },
    {
     "data": {
      "image/png": "[encoded data removed]",
      "text/plain": [
       "<matplotlib.figure.Figure at 0xe3f2dd8>"
      ]
     },
     "metadata": {},
     "output_type": "display_data"
    }
   ],
   "source": [
    "sns.boxplot(x='Alley',y='AVG_PRICE',data=train_data)\n",
    "train_data.Alley.value_counts()"
   ]
  },
  {
   "cell_type": "code",
   "execution_count": 65,
   "metadata": {},
   "outputs": [
    {
     "name": "stdout",
     "output_type": "stream",
     "text": [
      "0.0860998826622\n"
     ]
    }
   ],
   "source": [
    "clf = Ridge()\n",
    "x = train_data[['MSSubClass','MSZoning','LotFrontage','LotArea','Street','Alley']]\n",
    "x = s.fit_transform(x)\n",
    "y = train_data['AVG_PRICE']\n",
    "print(np.mean(cross_val_score(clf,x,y,cv=5)))"
   ]
  },
  {
   "cell_type": "markdown",
   "metadata": {},
   "source": [
    "### Neighborhood"
   ]
  },
  {
   "cell_type": "code",
   "execution_count": 66,
   "metadata": {
    "scrolled": true
   },
   "outputs": [
    {
     "name": "stdout",
     "output_type": "stream",
     "text": [
      "[('StoneBr', 165.40227532235392), ('NridgHt', 164.57805723210183), ('Veenker', 154.9809137507573), ('Somerst', 141.33596642481217), ('Timber', 139.76648322039006), ('CollgCr', 136.78367951579068), ('Blmngtn', 136.56697363609894), ('NoRidge', 132.27168705070494), ('Mitchel', 126.01744863615828), ('ClearCr', 124.24298891029503), ('Crawfor', 120.25482638137277), ('SawyerW', 119.7044242196549), ('Gilbert', 119.11493125681702), ('Sawyer', 117.85616299660873), ('NPkVill', 116.72689144012816), ('NAmes', 116.08938532777015), ('NWAmes', 111.84834925438753), ('BrkSide', 105.96680854866042), ('MeadowV', 101.92620057171746), ('Edwards', 101.83295816841986), ('Blueste', 98.96936920731005), ('BrDale', 91.95054338209853), ('OldTown', 91.42728199677265), ('IDOTRR', 89.13604251048629), ('SWISU', 84.75523335164971)]\n"
     ]
    },
    {
     "data": {
      "image/png": "[encoded data removed]",
      "text/plain": [
       "<matplotlib.figure.Figure at 0xd161c88>"
      ]
     },
     "metadata": {},
     "output_type": "display_data"
    }
   ],
   "source": [
    "sns.boxplot(x='Neighborhood',y='SalePrice',data=train_data)\n",
    "neighbors = list(set(train_data.Neighborhood))\n",
    "neighbor_list = []\n",
    "for n in neighbors:\n",
    "    neighbor_list.append(tuple((n,train_data[train_data.Neighborhood==n]['AVG_PRICE'].mean())))\n",
    "print(sorted(neighbor_list,key = lambda x:x[1],reverse=True))"
   ]
  },
  {
   "cell_type": "code",
   "execution_count": 67,
   "metadata": {},
   "outputs": [
    {
     "data": {
      "text/plain": [
       "\"neighbor_dict = defaultdict(int)\\nfor n in ['SWISU','IDOTRR','OldTown','BrDale']:\\n    neighbor_dict[n] = 1\\nfor n in ['Blueste','Edwards','MeadowV','BrkSide']:\\n    neighbor_dict[n] = 2\\nfor n in ['NWAmes','NAmes','NPkVill','Sawyer','Gilbert','SawyerW','Crawfor']:\\n    neighbor_dict[n] = 3\\nfor n in ['ClearCr','Mitchel','NoRidge','Blmngtn','CollgCr','Timber','Somerst']:\\n    neighbor_dict[n] = 4\\nfor n in ['Veenker','NridgHt','StoneBr']:\\n    neighbor_dict[n] = 5\\ntrain_data['Neighborhood'] = train_data['Neighborhood'].replace(neighbor_dict)\\nsns.boxplot(x='Neighborhood',y='SalePrice',data=train_data)\""
      ]
     },
     "execution_count": 67,
     "metadata": {},
     "output_type": "execute_result"
    }
   ],
   "source": [
    "# 'SWISU','IDOTRR','OldTown','BrDale':1\n",
    "# 'Blueste','Edwards','MeadowV','BrkSide':2\n",
    "# 'NWAmes','NAmes','NPkVill','Sawyer','Gilbert','SawyerW','Crawfor':3\n",
    "# 'ClearCr','Mitchel','NoRidge','Blmngtn','CollgCr','Timber','Somerst':4\n",
    "# 'Veenker','NridgHt','StoneBr':5\n",
    "'''neighbor_dict = defaultdict(int)\n",
    "for n in ['SWISU','IDOTRR','OldTown','BrDale']:\n",
    "    neighbor_dict[n] = 1\n",
    "for n in ['Blueste','Edwards','MeadowV','BrkSide']:\n",
    "    neighbor_dict[n] = 2\n",
    "for n in ['NWAmes','NAmes','NPkVill','Sawyer','Gilbert','SawyerW','Crawfor']:\n",
    "    neighbor_dict[n] = 3\n",
    "for n in ['ClearCr','Mitchel','NoRidge','Blmngtn','CollgCr','Timber','Somerst']:\n",
    "    neighbor_dict[n] = 4\n",
    "for n in ['Veenker','NridgHt','StoneBr']:\n",
    "    neighbor_dict[n] = 5\n",
    "train_data['Neighborhood'] = train_data['Neighborhood'].replace(neighbor_dict)\n",
    "sns.boxplot(x='Neighborhood',y='SalePrice',data=train_data)'''"
   ]
  },
  {
   "cell_type": "code",
   "execution_count": 69,
   "metadata": {},
   "outputs": [
    {
     "name": "stdout",
     "output_type": "stream",
     "text": [
      "(1460, 31)\n",
      "0.400974018713\n"
     ]
    }
   ],
   "source": [
    "clf = Ridge()\n",
    "df = pd.get_dummies(train_data['Neighborhood'])\n",
    "x = train_data[['MSSubClass','MSZoning','LotFrontage','LotArea','Street','Alley']]\n",
    "x = pd.concat([x,df],axis=1)\n",
    "print(x.shape)\n",
    "# x = s.fit_transform(x)\n",
    "y = train_data['AVG_PRICE']\n",
    "print(np.mean(cross_val_score(clf,x,y,cv=5)))"
   ]
  }
 ],
 "metadata": {
  "kernelspec": {
   "display_name": "Python 3",
   "language": "python",
   "name": "python3"
  },
  "language_info": {
   "codemirror_mode": {
    "name": "ipython",
    "version": 3
   },
   "file_extension": ".py",
   "mimetype": "text/x-python",
   "name": "python",
   "nbconvert_exporter": "python",
   "pygments_lexer": "ipython3",
   "version": "3.6.3"
  }
 },
 "nbformat": 4,
 "nbformat_minor": 2
}
