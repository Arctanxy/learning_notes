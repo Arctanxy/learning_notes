{
 "cells": [
  {
   "cell_type": "code",
   "execution_count": 1,
   "metadata": {
    "collapsed": true
   },
   "outputs": [],
   "source": [
    "import pandas as pd\n",
    "import numpy as np\n",
    "import matplotlib.pyplot as plt\n",
    "%matplotlib inline\n",
    "train = pd.read_csv('E:/kaggle/houseprice/data/Mtrain.csv')"
   ]
  },
  {
   "cell_type": "code",
   "execution_count": 2,
   "metadata": {},
   "outputs": [
    {
     "data": {
      "text/plain": [
       "<matplotlib.axes._subplots.AxesSubplot at 0x215dda275f8>"
      ]
     },
     "execution_count": 2,
     "metadata": {},
     "output_type": "execute_result"
    },
    {
     "data": {
      "image/png": "[encoded data removed]",
      "text/plain": [
       "<matplotlib.figure.Figure at 0x215d926f630>"
      ]
     },
     "metadata": {},
     "output_type": "display_data"
    }
   ],
   "source": [
    "train['SalePrice'].plot.hist(alpha = 0.5)"
   ]
  },
  {
   "cell_type": "code",
   "execution_count": 4,
   "metadata": {
    "collapsed": true
   },
   "outputs": [],
   "source": [
    "#从上图中可以看到，结果的数据分布不均匀，在采样时，需要尽可能地均匀采样\n",
    "#对此我们暂不做处理，在后期优化的时候进行数据合成或者上下采样\n",
    "from sklearn import ensemble,tree,linear_model\n",
    "from sklearn.model_selection import train_test_split,cross_val_score\n",
    "from sklearn.metrics import r2_score,mean_squared_error\n",
    "from sklearn.utils import shuffle\n",
    "import warnings\n",
    "warnings.filterwarnings('ignore')"
   ]
  },
  {
   "cell_type": "code",
   "execution_count": 3,
   "metadata": {},
   "outputs": [
    {
     "data": {
      "text/plain": [
       "((1459, 301), (1460, 302))"
      ]
     },
     "execution_count": 3,
     "metadata": {},
     "output_type": "execute_result"
    }
   ],
   "source": [
    "test = pd.read_csv('E:/kaggle/houseprice/data/Mtest.csv')\n",
    "del test['SalePrice']\n",
    "test.shape,train.shape"
   ]
  },
  {
   "cell_type": "code",
   "execution_count": 5,
   "metadata": {
    "collapsed": true
   },
   "outputs": [],
   "source": [
    "#定义几个函数\n",
    "#显示评分\n",
    "def get_score(prediction,lables):\n",
    "    print('R2:{}'.format(r2_score(prediction,lables)))\n",
    "    print('RMSE:{}'.format(np.sqrt(mean_squared_error(prediction,lables))))\n",
    "    \n",
    "#显示交叉检验评分\n",
    "def train_test(estimator,x_train,x_test,y_train,y_test):\n",
    "    prediction_train = estimator.predict(x_train)\n",
    "    print(estimator)\n",
    "    get_score(prediction_train,y_train)\n",
    "    prediction_test = estimator.predict(x_test)\n",
    "    print('Test')\n",
    "    get_score(prediction_test,y_test)\n",
    "    "
   ]
  },
  {
   "cell_type": "code",
   "execution_count": 20,
   "metadata": {},
   "outputs": [
    {
     "data": {
      "text/plain": [
       "0       0.241078\n",
       "1       0.203583\n",
       "2       0.261908\n",
       "3       0.145952\n",
       "4       0.298709\n",
       "5       0.150118\n",
       "6       0.377864\n",
       "7       0.229274\n",
       "8       0.131926\n",
       "9       0.115401\n",
       "10      0.131371\n",
       "11      0.430635\n",
       "12      0.151507\n",
       "13      0.339675\n",
       "14      0.169560\n",
       "15      0.134842\n",
       "16      0.158450\n",
       "17      0.076517\n",
       "18      0.172337\n",
       "19      0.144563\n",
       "20      0.403277\n",
       "21      0.145119\n",
       "22      0.270935\n",
       "23      0.131926\n",
       "24      0.165394\n",
       "25      0.307457\n",
       "26      0.138731\n",
       "27      0.376475\n",
       "28      0.239689\n",
       "29      0.046660\n",
       "          ...   \n",
       "1430    0.218359\n",
       "1431    0.151160\n",
       "1432    0.041105\n",
       "1433    0.210526\n",
       "1434    0.173726\n",
       "1435    0.193168\n",
       "1436    0.118872\n",
       "1437    0.499538\n",
       "1438    0.159422\n",
       "1439    0.225108\n",
       "1440    0.216775\n",
       "1441    0.158867\n",
       "1442    0.382030\n",
       "1443    0.119567\n",
       "1444    0.200944\n",
       "1445    0.130676\n",
       "1446    0.170810\n",
       "1447    0.284822\n",
       "1448    0.107068\n",
       "1449    0.079295\n",
       "1450    0.140397\n",
       "1451    0.350215\n",
       "1452    0.152895\n",
       "1453    0.068879\n",
       "1454    0.208443\n",
       "1455    0.194556\n",
       "1456    0.243161\n",
       "1457    0.321622\n",
       "1458    0.148903\n",
       "1459    0.156367\n",
       "Name: SalePrice, Length: 1460, dtype: float64"
      ]
     },
     "execution_count": 20,
     "metadata": {},
     "output_type": "execute_result"
    }
   ],
   "source": [
    "y_train = train['SalePrice']\n",
    "y_train"
   ]
  },
  {
   "cell_type": "code",
   "execution_count": 22,
   "metadata": {},
   "outputs": [
    {
     "data": {
      "text/plain": [
       "0      NaN\n",
       "1      NaN\n",
       "2      NaN\n",
       "3      NaN\n",
       "4      NaN\n",
       "5      NaN\n",
       "6      NaN\n",
       "7      NaN\n",
       "8      NaN\n",
       "9      NaN\n",
       "10     NaN\n",
       "11     NaN\n",
       "12     NaN\n",
       "13     NaN\n",
       "14     NaN\n",
       "15     NaN\n",
       "16     NaN\n",
       "17     NaN\n",
       "18     NaN\n",
       "19     NaN\n",
       "20     NaN\n",
       "21     NaN\n",
       "22     NaN\n",
       "23     NaN\n",
       "24     NaN\n",
       "25     NaN\n",
       "26     NaN\n",
       "27     NaN\n",
       "28     NaN\n",
       "29     NaN\n",
       "        ..\n",
       "1430   NaN\n",
       "1431   NaN\n",
       "1432   NaN\n",
       "1433   NaN\n",
       "1434   NaN\n",
       "1435   NaN\n",
       "1436   NaN\n",
       "1437   NaN\n",
       "1438   NaN\n",
       "1439   NaN\n",
       "1440   NaN\n",
       "1441   NaN\n",
       "1442   NaN\n",
       "1443   NaN\n",
       "1444   NaN\n",
       "1445   NaN\n",
       "1446   NaN\n",
       "1447   NaN\n",
       "1448   NaN\n",
       "1449   NaN\n",
       "1450   NaN\n",
       "1451   NaN\n",
       "1452   NaN\n",
       "1453   NaN\n",
       "1454   NaN\n",
       "1455   NaN\n",
       "1456   NaN\n",
       "1457   NaN\n",
       "1458   NaN\n",
       "1459   NaN\n",
       "Name: SalePrice, Length: 1460, dtype: float64"
      ]
     },
     "execution_count": 22,
     "metadata": {},
     "output_type": "execute_result"
    }
   ],
   "source": [
    "y_train = np.log(y_train)\n",
    "import seaborn as sns\n",
    "#ax = sns.distplot(y_train)\n",
    "y_train"
   ]
  }
 ],
 "metadata": {
  "kernelspec": {
   "display_name": "Python 3",
   "language": "python",
   "name": "python3"
  },
  "language_info": {
   "codemirror_mode": {
    "name": "ipython",
    "version": 3
   },
   "file_extension": ".py",
   "mimetype": "text/x-python",
   "name": "python",
   "nbconvert_exporter": "python",
   "pygments_lexer": "ipython3",
   "version": "3.6.3"
  }
 },
 "nbformat": 4,
 "nbformat_minor": 2
}
