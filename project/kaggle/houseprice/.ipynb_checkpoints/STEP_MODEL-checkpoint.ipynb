{
 "cells": [
  {
   "cell_type": "markdown",
   "metadata": {},
   "source": [
    "# STEP MODEL"
   ]
  },
  {
   "cell_type": "markdown",
   "metadata": {},
   "source": [
    "## GET DATA"
   ]
  },
  {
   "cell_type": "code",
   "execution_count": 26,
   "metadata": {
    "scrolled": true
   },
   "outputs": [
    {
     "name": "stdout",
     "output_type": "stream",
     "text": [
      "<class 'pandas.core.frame.DataFrame'>\n",
      "RangeIndex: 1460 entries, 0 to 1459\n",
      "Data columns (total 81 columns):\n",
      "Id               1460 non-null int64\n",
      "MSSubClass       1460 non-null int64\n",
      "MSZoning         1460 non-null object\n",
      "LotFrontage      1201 non-null float64\n",
      "LotArea          1460 non-null int64\n",
      "Street           1460 non-null object\n",
      "Alley            91 non-null object\n",
      "LotShape         1460 non-null object\n",
      "LandContour      1460 non-null object\n",
      "Utilities        1460 non-null object\n",
      "LotConfig        1460 non-null object\n",
      "LandSlope        1460 non-null object\n",
      "Neighborhood     1460 non-null object\n",
      "Condition1       1460 non-null object\n",
      "Condition2       1460 non-null object\n",
      "BldgType         1460 non-null object\n",
      "HouseStyle       1460 non-null object\n",
      "OverallQual      1460 non-null int64\n",
      "OverallCond      1460 non-null int64\n",
      "YearBuilt        1460 non-null int64\n",
      "YearRemodAdd     1460 non-null int64\n",
      "RoofStyle        1460 non-null object\n",
      "RoofMatl         1460 non-null object\n",
      "Exterior1st      1460 non-null object\n",
      "Exterior2nd      1460 non-null object\n",
      "MasVnrType       1452 non-null object\n",
      "MasVnrArea       1452 non-null float64\n",
      "ExterQual        1460 non-null object\n",
      "ExterCond        1460 non-null object\n",
      "Foundation       1460 non-null object\n",
      "BsmtQual         1423 non-null object\n",
      "BsmtCond         1423 non-null object\n",
      "BsmtExposure     1422 non-null object\n",
      "BsmtFinType1     1423 non-null object\n",
      "BsmtFinSF1       1460 non-null int64\n",
      "BsmtFinType2     1422 non-null object\n",
      "BsmtFinSF2       1460 non-null int64\n",
      "BsmtUnfSF        1460 non-null int64\n",
      "TotalBsmtSF      1460 non-null int64\n",
      "Heating          1460 non-null object\n",
      "HeatingQC        1460 non-null object\n",
      "CentralAir       1460 non-null object\n",
      "Electrical       1459 non-null object\n",
      "1stFlrSF         1460 non-null int64\n",
      "2ndFlrSF         1460 non-null int64\n",
      "LowQualFinSF     1460 non-null int64\n",
      "GrLivArea        1460 non-null int64\n",
      "BsmtFullBath     1460 non-null int64\n",
      "BsmtHalfBath     1460 non-null int64\n",
      "FullBath         1460 non-null int64\n",
      "HalfBath         1460 non-null int64\n",
      "BedroomAbvGr     1460 non-null int64\n",
      "KitchenAbvGr     1460 non-null int64\n",
      "KitchenQual      1460 non-null object\n",
      "TotRmsAbvGrd     1460 non-null int64\n",
      "Functional       1460 non-null object\n",
      "Fireplaces       1460 non-null int64\n",
      "FireplaceQu      770 non-null object\n",
      "GarageType       1379 non-null object\n",
      "GarageYrBlt      1379 non-null float64\n",
      "GarageFinish     1379 non-null object\n",
      "GarageCars       1460 non-null int64\n",
      "GarageArea       1460 non-null int64\n",
      "GarageQual       1379 non-null object\n",
      "GarageCond       1379 non-null object\n",
      "PavedDrive       1460 non-null object\n",
      "WoodDeckSF       1460 non-null int64\n",
      "OpenPorchSF      1460 non-null int64\n",
      "EnclosedPorch    1460 non-null int64\n",
      "3SsnPorch        1460 non-null int64\n",
      "ScreenPorch      1460 non-null int64\n",
      "PoolArea         1460 non-null int64\n",
      "PoolQC           7 non-null object\n",
      "Fence            281 non-null object\n",
      "MiscFeature      54 non-null object\n",
      "MiscVal          1460 non-null int64\n",
      "MoSold           1460 non-null int64\n",
      "YrSold           1460 non-null int64\n",
      "SaleType         1460 non-null object\n",
      "SaleCondition    1460 non-null object\n",
      "SalePrice        1460 non-null int64\n",
      "dtypes: float64(3), int64(35), object(43)\n",
      "memory usage: 924.0+ KB\n"
     ]
    }
   ],
   "source": [
    "import pandas as pd \n",
    "import numpy as np \n",
    "import matplotlib.pyplot as plt \n",
    "import seaborn as sns\n",
    "from sklearn.linear_model import RidgeCV\n",
    "from sklearn.metrics import mean_squared_error\n",
    "import warnings\n",
    "warnings.filterwarnings(\"ignore\")\n",
    "%matplotlib inline \n",
    "\n",
    "PATH = 'C:/Users/Dl/Documents/GitHub/learning_notes/project/kaggle/houseprice/data/'\n",
    "train_data = pd.read_csv(PATH + 'train.csv')\n",
    "train_data.info()"
   ]
  },
  {
   "cell_type": "markdown",
   "metadata": {},
   "source": [
    "### 区位因素\n",
    "\n",
    "区位因素有：MSZoning;MSSubClass;Neighborhood"
   ]
  },
  {
   "cell_type": "code",
   "execution_count": 27,
   "metadata": {},
   "outputs": [
    {
     "name": "stdout",
     "output_type": "stream",
     "text": [
      "<class 'pandas.core.frame.DataFrame'>\n",
      "RangeIndex: 1460 entries, 0 to 1459\n",
      "Data columns (total 3 columns):\n",
      "MSSubClass      1460 non-null int64\n",
      "MSZoning        1460 non-null object\n",
      "Neighborhood    1460 non-null object\n",
      "dtypes: int64(1), object(2)\n",
      "memory usage: 34.3+ KB\n"
     ]
    }
   ],
   "source": [
    "region_features = train_data[['MSSubClass','MSZoning','Neighborhood']]\n",
    "y = np.log(train_data['SalePrice']/train_data['GrLivArea']) # 单价\n",
    "region_features.info()"
   ]
  },
  {
   "cell_type": "code",
   "execution_count": 34,
   "metadata": {
    "scrolled": true
   },
   "outputs": [
    {
     "name": "stdout",
     "output_type": "stream",
     "text": [
      "0.03284038969929606\n"
     ]
    }
   ],
   "source": [
    "region_features = region_features.astype(str) # 这三项都作为类目型特征进行处理\n",
    "x = pd.get_dummies(region_features)\n",
    "clf = RidgeCV(alphas=[1e-5,1e-4,1e-3,1e-2,1e-1])\n",
    "clf.fit(x,y)\n",
    "yp = clf.predict(x)\n",
    "print(mean_squared_error(yp,y))\n",
    "# x.info()"
   ]
  },
  {
   "cell_type": "markdown",
   "metadata": {},
   "source": [
    "效果惊人，这个八成过拟合了，我们可以尝试着提交一下看看"
   ]
  },
  {
   "cell_type": "code",
   "execution_count": null,
   "metadata": {
    "collapsed": true
   },
   "outputs": [],
   "source": []
  },
  {
   "cell_type": "markdown",
   "metadata": {},
   "source": [
    "### 年代因素"
   ]
  },
  {
   "cell_type": "markdown",
   "metadata": {},
   "source": [
    "年代因素有：YearBuilt;YearRemodAdd;YrSold;"
   ]
  },
  {
   "cell_type": "code",
   "execution_count": 41,
   "metadata": {},
   "outputs": [
    {
     "name": "stdout",
     "output_type": "stream",
     "text": [
      "<class 'pandas.core.frame.DataFrame'>\n",
      "RangeIndex: 1460 entries, 0 to 1459\n",
      "Data columns (total 4 columns):\n",
      "YearBuilt       1460 non-null int64\n",
      "YearRemodAdd    1460 non-null int64\n",
      "YrSold          1460 non-null int64\n",
      "MoSold          1460 non-null int64\n",
      "dtypes: int64(4)\n",
      "memory usage: 45.7 KB\n"
     ]
    }
   ],
   "source": [
    "year_features = train_data[['YearBuilt','YearRemodAdd','YrSold','MoSold']] # 不同月份之间房价差异要大过不同年份，所以月份也是很重要的因素\n",
    "year_features.info() # 查漏补缺"
   ]
  },
  {
   "cell_type": "markdown",
   "metadata": {},
   "source": [
    "建立新特征"
   ]
  },
  {
   "cell_type": "code",
   "execution_count": 38,
   "metadata": {},
   "outputs": [
    {
     "data": {
      "text/plain": [
       "0    764\n",
       "1    696\n",
       "Name: Remodeled, dtype: int64"
      ]
     },
     "execution_count": 38,
     "metadata": {},
     "output_type": "execute_result"
    }
   ],
   "source": [
    "year_features['Remodeled'] = (train_data['YearBuilt'] != train_data['YearRemodAdd']) * 1\n",
    "year_features['Remodeled'].value_counts()"
   ]
  },
  {
   "cell_type": "code",
   "execution_count": 39,
   "metadata": {
    "scrolled": true
   },
   "outputs": [
    {
     "data": {
      "text/plain": [
       "2      100\n",
       "1       64\n",
       "5       41\n",
       "3       39\n",
       "4       36\n",
       "32      31\n",
       "6       30\n",
       "7       30\n",
       "9       25\n",
       "38      25\n",
       "40      24\n",
       "8       24\n",
       "52      24\n",
       "10      23\n",
       "48      23\n",
       "33      23\n",
       "11      22\n",
       "43      22\n",
       "12      22\n",
       "50      21\n",
       "54      20\n",
       "16      20\n",
       "37      20\n",
       "31      19\n",
       "44      19\n",
       "49      18\n",
       "42      17\n",
       "46      17\n",
       "55      17\n",
       "39      16\n",
       "      ... \n",
       "72       3\n",
       "73       3\n",
       "75       3\n",
       "24       3\n",
       "107      3\n",
       "96       3\n",
       "101      3\n",
       "76       2\n",
       "65       2\n",
       "128      2\n",
       "118      2\n",
       "111      2\n",
       "64       2\n",
       "105      1\n",
       "130      1\n",
       "129      1\n",
       "104      1\n",
       "127      1\n",
       "126      1\n",
       "123      1\n",
       "120      1\n",
       "103      1\n",
       "116      1\n",
       "115      1\n",
       "112      1\n",
       "80       1\n",
       "110      1\n",
       "136      1\n",
       "108      1\n",
       "137      1\n",
       "Name: Age, Length: 122, dtype: int64"
      ]
     },
     "execution_count": 39,
     "metadata": {},
     "output_type": "execute_result"
    }
   ],
   "source": [
    "year_features['Age'] = train_data['YrSold'] - train_data['YearBuilt'] + 1\n",
    "year_features['Age'].value_counts()"
   ]
  },
  {
   "cell_type": "markdown",
   "metadata": {},
   "source": [
    "竟然有一百多年的房子在卖！！！"
   ]
  },
  {
   "cell_type": "code",
   "execution_count": 40,
   "metadata": {},
   "outputs": [
    {
     "name": "stdout",
     "output_type": "stream",
     "text": [
      "0.030098541948782937\n"
     ]
    }
   ],
   "source": [
    "x = pd.concat([x,year_features],axis=1)\n",
    "clf = RidgeCV(alphas=[1e-5,1e-4,1e-3,1e-2,1e-1])\n",
    "clf.fit(x,y)\n",
    "yp = clf.predict(x)\n",
    "print(mean_squared_error(yp,y))"
   ]
  },
  {
   "cell_type": "markdown",
   "metadata": {},
   "source": [
    "### 交通地形因素"
   ]
  },
  {
   "cell_type": "markdown",
   "metadata": {},
   "source": [
    "### 房屋结构因素"
   ]
  },
  {
   "cell_type": "code",
   "execution_count": null,
   "metadata": {
    "collapsed": true
   },
   "outputs": [],
   "source": []
  }
 ],
 "metadata": {
  "kernelspec": {
   "display_name": "Python 3",
   "language": "python",
   "name": "python3"
  },
  "language_info": {
   "codemirror_mode": {
    "name": "ipython",
    "version": 3
   },
   "file_extension": ".py",
   "mimetype": "text/x-python",
   "name": "python",
   "nbconvert_exporter": "python",
   "pygments_lexer": "ipython3",
   "version": "3.6.3"
  }
 },
 "nbformat": 4,
 "nbformat_minor": 2
}
