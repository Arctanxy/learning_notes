{
 "cells": [
  {
   "cell_type": "code",
   "execution_count": 1,
   "metadata": {},
   "outputs": [
    {
     "name": "stdout",
     "output_type": "stream",
     "text": [
      "<class 'pandas.core.frame.DataFrame'>\n",
      "RangeIndex: 6412 entries, 4300 to 10711\n",
      "Data columns (total 14 columns):\n",
      "城市      6412 non-null object\n",
      "行政区域    6412 non-null object\n",
      "类型      6412 non-null object\n",
      "小区名称    6412 non-null object\n",
      "地址      6392 non-null object\n",
      "所在楼层    6412 non-null int64\n",
      "总楼层     6412 non-null int64\n",
      "面积      6412 non-null float64\n",
      "结构      6412 non-null object\n",
      "建筑年代    6412 non-null int64\n",
      "朝向      6412 non-null object\n",
      "装修      6412 non-null object\n",
      "买卖时间    6412 non-null datetime64[ns]\n",
      "单价      6412 non-null float64\n",
      "dtypes: datetime64[ns](1), float64(2), int64(3), object(8)\n",
      "memory usage: 701.4+ KB\n"
     ]
    }
   ],
   "source": [
    "import pandas as pd \n",
    "import numpy as np \n",
    "\n",
    "data = pd.read_excel(r'C:\\Users\\Dl\\Desktop\\宿州市住宅类可比实例入库版20180529.xlsx')\n",
    "data = data[4300:]\n",
    "data.info()\n",
    "def process(data):\n",
    "    # data = data[(data['所在楼层'] != 1)&(data['所在楼层'] != data['总楼层'])]\n",
    "    # data['ratio'] = data['所在楼层']/data['总楼层']\n",
    "    pivot_price = {}\n",
    "    for name,group in data.groupby('小区名称'):\n",
    "        pivot_price[name] = group['单价'].mean()\n",
    "    data['pivot'] = data['小区名称'].apply(lambda x:pivot_price[x])\n",
    "    data['ratio_price'] = data['单价']/data['pivot']\n",
    "    data = data[data['ratio_price'] <= 1.2]\n",
    "    # x = data['ratio']\n",
    "    # y = data['ratio_price']\n",
    "    return data\n",
    "data = process(data)\n",
    "data.to_excel(r'C:\\Users\\Dl\\Desktop\\suzhou.xlsx')"
   ]
  },
  {
   "cell_type": "code",
   "execution_count": 2,
   "metadata": {},
   "outputs": [
    {
     "name": "stdout",
     "output_type": "stream",
     "text": [
      "618\n"
     ]
    }
   ],
   "source": [
    "print(len(set(data['小区名称'].values)))"
   ]
  }
 ],
 "metadata": {
  "kernelspec": {
   "display_name": "Python 3",
   "language": "python",
   "name": "python3"
  },
  "language_info": {
   "codemirror_mode": {
    "name": "ipython",
    "version": 3
   },
   "file_extension": ".py",
   "mimetype": "text/x-python",
   "name": "python",
   "nbconvert_exporter": "python",
   "pygments_lexer": "ipython3",
   "version": "3.6.3"
  }
 },
 "nbformat": 4,
 "nbformat_minor": 2
}
