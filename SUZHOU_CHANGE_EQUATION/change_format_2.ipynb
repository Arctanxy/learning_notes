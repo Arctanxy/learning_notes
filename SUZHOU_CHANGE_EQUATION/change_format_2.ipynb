{
 "cells": [
  {
   "cell_type": "markdown",
   "metadata": {},
   "source": [
    "# 中高层 8-18（不含一楼）"
   ]
  },
  {
   "cell_type": "code",
   "execution_count": 1,
   "metadata": {},
   "outputs": [
    {
     "name": "stdout",
     "output_type": "stream",
     "text": [
      "<class 'pandas.core.frame.DataFrame'>\n",
      "RangeIndex: 6412 entries, 4300 to 10711\n",
      "Data columns (total 14 columns):\n",
      "城市      6412 non-null object\n",
      "行政区域    6412 non-null object\n",
      "类型      6412 non-null object\n",
      "小区名称    6412 non-null object\n",
      "地址      6392 non-null object\n",
      "所在楼层    6412 non-null int64\n",
      "总楼层     6412 non-null int64\n",
      "面积      6412 non-null float64\n",
      "结构      6412 non-null object\n",
      "建筑年代    6412 non-null int64\n",
      "朝向      6412 non-null object\n",
      "装修      6412 non-null object\n",
      "买卖时间    6412 non-null datetime64[ns]\n",
      "单价      6412 non-null float64\n",
      "dtypes: datetime64[ns](1), float64(2), int64(3), object(8)\n",
      "memory usage: 701.4+ KB\n"
     ]
    }
   ],
   "source": [
    "import pandas as pd \n",
    "data = pd.read_excel(r'C:\\Users\\Dl\\Desktop\\宿州市住宅类可比实例入库版20180529.xlsx')\n",
    "data = data[4300:]\n",
    "data.info()\n",
    "DEGREE = 2"
   ]
  },
  {
   "cell_type": "code",
   "execution_count": 2,
   "metadata": {},
   "outputs": [
    {
     "data": {
      "text/plain": [
       "(1595, 14)"
      ]
     },
     "execution_count": 2,
     "metadata": {},
     "output_type": "execute_result"
    }
   ],
   "source": [
    "data1 = data[(data['总楼层'] >= 8)&(data['总楼层'] <= 18)]\n",
    "data1.shape"
   ]
  },
  {
   "cell_type": "code",
   "execution_count": 3,
   "metadata": {},
   "outputs": [],
   "source": [
    "def process(data):\n",
    "    # data = data[(data['所在楼层'] != 1)&(data['所在楼层'] != data['总楼层'])]\n",
    "    data['ratio'] = data['所在楼层']/data['总楼层']\n",
    "    pivot_price = {}\n",
    "    for name,group in data.groupby('小区名称'):\n",
    "        pivot_price[name] = group['单价'].mean()\n",
    "    data['pivot'] = data['小区名称'].apply(lambda x:pivot_price[x])\n",
    "    data['ratio_price'] = data['单价']/data['pivot']\n",
    "    data = data[data['ratio_price'] <= 1.2]\n",
    "    x = data['ratio']\n",
    "    y = data['ratio_price']\n",
    "    return data\n",
    "data = process(data)\n",
    "data.to_excel(r'C:\\Users\\Dl\\Desktop\\suzhou.xlsx')"
   ]
  },
  {
   "cell_type": "markdown",
   "metadata": {},
   "source": [
    "# 不含一楼和顶楼"
   ]
  },
  {
   "cell_type": "code",
   "execution_count": 4,
   "metadata": {
    "scrolled": true
   },
   "outputs": [
    {
     "name": "stderr",
     "output_type": "stream",
     "text": [
      "D:\\ProgramData\\Anaconda3\\lib\\site-packages\\ipykernel_launcher.py:3: SettingWithCopyWarning: \n",
      "A value is trying to be set on a copy of a slice from a DataFrame.\n",
      "Try using .loc[row_indexer,col_indexer] = value instead\n",
      "\n",
      "See the caveats in the documentation: http://pandas.pydata.org/pandas-docs/stable/indexing.html#indexing-view-versus-copy\n",
      "  This is separate from the ipykernel package so we can avoid doing imports until\n",
      "D:\\ProgramData\\Anaconda3\\lib\\site-packages\\ipykernel_launcher.py:7: SettingWithCopyWarning: \n",
      "A value is trying to be set on a copy of a slice from a DataFrame.\n",
      "Try using .loc[row_indexer,col_indexer] = value instead\n",
      "\n",
      "See the caveats in the documentation: http://pandas.pydata.org/pandas-docs/stable/indexing.html#indexing-view-versus-copy\n",
      "  import sys\n",
      "D:\\ProgramData\\Anaconda3\\lib\\site-packages\\ipykernel_launcher.py:8: SettingWithCopyWarning: \n",
      "A value is trying to be set on a copy of a slice from a DataFrame.\n",
      "Try using .loc[row_indexer,col_indexer] = value instead\n",
      "\n",
      "See the caveats in the documentation: http://pandas.pydata.org/pandas-docs/stable/indexing.html#indexing-view-versus-copy\n",
      "  \n",
      "D:\\ProgramData\\Anaconda3\\lib\\site-packages\\ipykernel_launcher.py:17: FutureWarning: reshape is deprecated and will raise in a subsequent release. Please use .values.reshape(...) instead\n"
     ]
    }
   ],
   "source": [
    "def process(data):\n",
    "    data = data[(data['所在楼层'] != 1)&(data['所在楼层'] != data['总楼层'])]\n",
    "    data['ratio'] = data['所在楼层']/data['总楼层']\n",
    "    pivot_price = {}\n",
    "    for name,group in data.groupby('小区名称'):\n",
    "        pivot_price[name] = group['单价'].mean()\n",
    "    data['pivot'] = data['小区名称'].apply(lambda x:pivot_price[x])\n",
    "    data['ratio_price'] = data['单价']/data['pivot']\n",
    "    data = data[data['ratio_price'] <= 1.2]\n",
    "    x = data['ratio']\n",
    "    y = data['ratio_price']\n",
    "    return x,y\n",
    "x,y = process(data1)\n",
    "from sklearn.preprocessing import PolynomialFeatures\n",
    "import numpy as np \n",
    "pf = PolynomialFeatures(degree=DEGREE)\n",
    "x = x.reshape(-1,1)\n",
    "x = pf.fit_transform(x)"
   ]
  },
  {
   "cell_type": "code",
   "execution_count": 5,
   "metadata": {},
   "outputs": [
    {
     "data": {
      "text/plain": [
       "0.004674282782590163"
      ]
     },
     "execution_count": 5,
     "metadata": {},
     "output_type": "execute_result"
    }
   ],
   "source": [
    "from sklearn.linear_model import RidgeCV\n",
    "model = RidgeCV(alphas=[1e-4,1e-5,1e-3,1e-2,1e-1,1e0])\n",
    "model.fit(x,y)\n",
    "yp = model.predict(x)\n",
    "loss = np.abs(yp-y)/y\n",
    "np.mean(loss)"
   ]
  },
  {
   "cell_type": "code",
   "execution_count": 6,
   "metadata": {},
   "outputs": [
    {
     "data": {
      "text/plain": [
       "<matplotlib.collections.PathCollection at 0xc36b240>"
      ]
     },
     "execution_count": 6,
     "metadata": {},
     "output_type": "execute_result"
    },
    {
     "data": {
      "image/png": "[encoded data removed]",
      "text/plain": [
       "<Figure size 720x360 with 1 Axes>"
      ]
     },
     "metadata": {},
     "output_type": "display_data"
    }
   ],
   "source": [
    "import matplotlib.pyplot as plt \n",
    "%matplotlib inline\n",
    "plt.figure(figsize=(10,5))\n",
    "plt.scatter(x[:,1],y)\n",
    "plt.scatter(x[:,1],yp)"
   ]
  },
  {
   "cell_type": "code",
   "execution_count": 7,
   "metadata": {},
   "outputs": [
    {
     "data": {
      "text/plain": [
       "(0.9574593903950805, array([ 0.        ,  0.15415356, -0.11701955]))"
      ]
     },
     "execution_count": 7,
     "metadata": {},
     "output_type": "execute_result"
    }
   ],
   "source": [
    "model.intercept_,model.coef_"
   ]
  },
  {
   "cell_type": "markdown",
   "metadata": {},
   "source": [
    "## 顶楼"
   ]
  },
  {
   "cell_type": "code",
   "execution_count": 8,
   "metadata": {},
   "outputs": [
    {
     "name": "stderr",
     "output_type": "stream",
     "text": [
      "D:\\ProgramData\\Anaconda3\\lib\\site-packages\\ipykernel_launcher.py:6: SettingWithCopyWarning: \n",
      "A value is trying to be set on a copy of a slice from a DataFrame.\n",
      "Try using .loc[row_indexer,col_indexer] = value instead\n",
      "\n",
      "See the caveats in the documentation: http://pandas.pydata.org/pandas-docs/stable/indexing.html#indexing-view-versus-copy\n",
      "  \n",
      "D:\\ProgramData\\Anaconda3\\lib\\site-packages\\ipykernel_launcher.py:7: SettingWithCopyWarning: \n",
      "A value is trying to be set on a copy of a slice from a DataFrame.\n",
      "Try using .loc[row_indexer,col_indexer] = value instead\n",
      "\n",
      "See the caveats in the documentation: http://pandas.pydata.org/pandas-docs/stable/indexing.html#indexing-view-versus-copy\n",
      "  import sys\n"
     ]
    },
    {
     "data": {
      "text/plain": [
       "(118,)"
      ]
     },
     "execution_count": 8,
     "metadata": {},
     "output_type": "execute_result"
    }
   ],
   "source": [
    "def ding_process(data):\n",
    "    data = data[data['所在楼层'] == data['总楼层']]\n",
    "    pivot_price = {}\n",
    "    for name,group in data.groupby('小区名称'):\n",
    "        pivot_price[name] = group['单价'].mean()\n",
    "    data['pivot'] = data['小区名称'].apply(lambda x:pivot_price[x])\n",
    "    data['ratio_price'] = data['单价']/data['pivot']\n",
    "    data = data[data['ratio_price'] <= 1.2]\n",
    "    x = data['总楼层']\n",
    "    y = data['ratio_price']\n",
    "    return x,y\n",
    "x,y = ding_process(data1)\n",
    "x.shape"
   ]
  },
  {
   "cell_type": "code",
   "execution_count": 9,
   "metadata": {},
   "outputs": [
    {
     "data": {
      "text/plain": [
       "<matplotlib.collections.PathCollection at 0xc3e87f0>"
      ]
     },
     "execution_count": 9,
     "metadata": {},
     "output_type": "execute_result"
    },
    {
     "data": {
      "image/png": "[encoded data removed]",
      "text/plain": [
       "<Figure size 432x288 with 1 Axes>"
      ]
     },
     "metadata": {},
     "output_type": "display_data"
    }
   ],
   "source": [
    "plt.scatter(x,y)"
   ]
  },
  {
   "cell_type": "code",
   "execution_count": 10,
   "metadata": {},
   "outputs": [
    {
     "ename": "ValueError",
     "evalue": "Can only tuple-index with a MultiIndex",
     "output_type": "error",
     "traceback": [
      "\u001b[1;31m---------------------------------------------------------------------------\u001b[0m",
      "\u001b[1;31mValueError\u001b[0m                                Traceback (most recent call last)",
      "\u001b[1;32m<ipython-input-10-cc9f93d5b77f>\u001b[0m in \u001b[0;36m<module>\u001b[1;34m()\u001b[0m\n\u001b[0;32m      2\u001b[0m \u001b[0mget_ipython\u001b[0m\u001b[1;33m(\u001b[0m\u001b[1;33m)\u001b[0m\u001b[1;33m.\u001b[0m\u001b[0mmagic\u001b[0m\u001b[1;33m(\u001b[0m\u001b[1;34m'matplotlib inline'\u001b[0m\u001b[1;33m)\u001b[0m\u001b[1;33m\u001b[0m\u001b[0m\n\u001b[0;32m      3\u001b[0m \u001b[0mplt\u001b[0m\u001b[1;33m.\u001b[0m\u001b[0mfigure\u001b[0m\u001b[1;33m(\u001b[0m\u001b[0mfigsize\u001b[0m\u001b[1;33m=\u001b[0m\u001b[1;33m(\u001b[0m\u001b[1;36m10\u001b[0m\u001b[1;33m,\u001b[0m\u001b[1;36m5\u001b[0m\u001b[1;33m)\u001b[0m\u001b[1;33m)\u001b[0m\u001b[1;33m\u001b[0m\u001b[0m\n\u001b[1;32m----> 4\u001b[1;33m \u001b[0mplt\u001b[0m\u001b[1;33m.\u001b[0m\u001b[0mscatter\u001b[0m\u001b[1;33m(\u001b[0m\u001b[0mx\u001b[0m\u001b[1;33m[\u001b[0m\u001b[1;33m:\u001b[0m\u001b[1;33m,\u001b[0m\u001b[1;36m1\u001b[0m\u001b[1;33m]\u001b[0m\u001b[1;33m,\u001b[0m\u001b[0my\u001b[0m\u001b[1;33m)\u001b[0m\u001b[1;33m\u001b[0m\u001b[0m\n\u001b[0m\u001b[0;32m      5\u001b[0m \u001b[0mplt\u001b[0m\u001b[1;33m.\u001b[0m\u001b[0mscatter\u001b[0m\u001b[1;33m(\u001b[0m\u001b[0mx\u001b[0m\u001b[1;33m[\u001b[0m\u001b[1;33m:\u001b[0m\u001b[1;33m,\u001b[0m\u001b[1;36m1\u001b[0m\u001b[1;33m]\u001b[0m\u001b[1;33m,\u001b[0m\u001b[0myp\u001b[0m\u001b[1;33m)\u001b[0m\u001b[1;33m\u001b[0m\u001b[0m\n",
      "\u001b[1;32mD:\\ProgramData\\Anaconda3\\lib\\site-packages\\pandas\\core\\series.py\u001b[0m in \u001b[0;36m__getitem__\u001b[1;34m(self, key)\u001b[0m\n\u001b[0;32m    662\u001b[0m             \u001b[0mkey\u001b[0m \u001b[1;33m=\u001b[0m \u001b[0mcheck_bool_indexer\u001b[0m\u001b[1;33m(\u001b[0m\u001b[0mself\u001b[0m\u001b[1;33m.\u001b[0m\u001b[0mindex\u001b[0m\u001b[1;33m,\u001b[0m \u001b[0mkey\u001b[0m\u001b[1;33m)\u001b[0m\u001b[1;33m\u001b[0m\u001b[0m\n\u001b[0;32m    663\u001b[0m \u001b[1;33m\u001b[0m\u001b[0m\n\u001b[1;32m--> 664\u001b[1;33m         \u001b[1;32mreturn\u001b[0m \u001b[0mself\u001b[0m\u001b[1;33m.\u001b[0m\u001b[0m_get_with\u001b[0m\u001b[1;33m(\u001b[0m\u001b[0mkey\u001b[0m\u001b[1;33m)\u001b[0m\u001b[1;33m\u001b[0m\u001b[0m\n\u001b[0m\u001b[0;32m    665\u001b[0m \u001b[1;33m\u001b[0m\u001b[0m\n\u001b[0;32m    666\u001b[0m     \u001b[1;32mdef\u001b[0m \u001b[0m_get_with\u001b[0m\u001b[1;33m(\u001b[0m\u001b[0mself\u001b[0m\u001b[1;33m,\u001b[0m \u001b[0mkey\u001b[0m\u001b[1;33m)\u001b[0m\u001b[1;33m:\u001b[0m\u001b[1;33m\u001b[0m\u001b[0m\n",
      "\u001b[1;32mD:\\ProgramData\\Anaconda3\\lib\\site-packages\\pandas\\core\\series.py\u001b[0m in \u001b[0;36m_get_with\u001b[1;34m(self, key)\u001b[0m\n\u001b[0;32m    675\u001b[0m             \u001b[1;32mif\u001b[0m \u001b[0misinstance\u001b[0m\u001b[1;33m(\u001b[0m\u001b[0mkey\u001b[0m\u001b[1;33m,\u001b[0m \u001b[0mtuple\u001b[0m\u001b[1;33m)\u001b[0m\u001b[1;33m:\u001b[0m\u001b[1;33m\u001b[0m\u001b[0m\n\u001b[0;32m    676\u001b[0m                 \u001b[1;32mtry\u001b[0m\u001b[1;33m:\u001b[0m\u001b[1;33m\u001b[0m\u001b[0m\n\u001b[1;32m--> 677\u001b[1;33m                     \u001b[1;32mreturn\u001b[0m \u001b[0mself\u001b[0m\u001b[1;33m.\u001b[0m\u001b[0m_get_values_tuple\u001b[0m\u001b[1;33m(\u001b[0m\u001b[0mkey\u001b[0m\u001b[1;33m)\u001b[0m\u001b[1;33m\u001b[0m\u001b[0m\n\u001b[0m\u001b[0;32m    678\u001b[0m                 \u001b[1;32mexcept\u001b[0m \u001b[0mException\u001b[0m\u001b[1;33m:\u001b[0m\u001b[1;33m\u001b[0m\u001b[0m\n\u001b[0;32m    679\u001b[0m                     \u001b[1;32mif\u001b[0m \u001b[0mlen\u001b[0m\u001b[1;33m(\u001b[0m\u001b[0mkey\u001b[0m\u001b[1;33m)\u001b[0m \u001b[1;33m==\u001b[0m \u001b[1;36m1\u001b[0m\u001b[1;33m:\u001b[0m\u001b[1;33m\u001b[0m\u001b[0m\n",
      "\u001b[1;32mD:\\ProgramData\\Anaconda3\\lib\\site-packages\\pandas\\core\\series.py\u001b[0m in \u001b[0;36m_get_values_tuple\u001b[1;34m(self, key)\u001b[0m\n\u001b[0;32m    720\u001b[0m \u001b[1;33m\u001b[0m\u001b[0m\n\u001b[0;32m    721\u001b[0m         \u001b[1;32mif\u001b[0m \u001b[1;32mnot\u001b[0m \u001b[0misinstance\u001b[0m\u001b[1;33m(\u001b[0m\u001b[0mself\u001b[0m\u001b[1;33m.\u001b[0m\u001b[0mindex\u001b[0m\u001b[1;33m,\u001b[0m \u001b[0mMultiIndex\u001b[0m\u001b[1;33m)\u001b[0m\u001b[1;33m:\u001b[0m\u001b[1;33m\u001b[0m\u001b[0m\n\u001b[1;32m--> 722\u001b[1;33m             \u001b[1;32mraise\u001b[0m \u001b[0mValueError\u001b[0m\u001b[1;33m(\u001b[0m\u001b[1;34m'Can only tuple-index with a MultiIndex'\u001b[0m\u001b[1;33m)\u001b[0m\u001b[1;33m\u001b[0m\u001b[0m\n\u001b[0m\u001b[0;32m    723\u001b[0m \u001b[1;33m\u001b[0m\u001b[0m\n\u001b[0;32m    724\u001b[0m         \u001b[1;31m# If key is contained, would have returned by now\u001b[0m\u001b[1;33m\u001b[0m\u001b[1;33m\u001b[0m\u001b[0m\n",
      "\u001b[1;31mValueError\u001b[0m: Can only tuple-index with a MultiIndex"
     ]
    },
    {
     "data": {
      "text/plain": [
       "<Figure size 720x360 with 0 Axes>"
      ]
     },
     "metadata": {},
     "output_type": "display_data"
    }
   ],
   "source": [
    "import matplotlib.pyplot as plt \n",
    "%matplotlib inline\n",
    "plt.figure(figsize=(10,5))\n",
    "plt.scatter(x[:,1],y)\n",
    "plt.scatter(x[:,1],yp)"
   ]
  },
  {
   "cell_type": "markdown",
   "metadata": {},
   "source": [
    "# 中高层公式（不含一楼与顶楼）：\n",
    "\n",
    "系数\n",
    "    $$K = -0.11701955*(\\frac{n}{N})^2 + 0.15415356 * (\\frac{n}{N}) + 0.95745939$$\n",
    "    \n",
    "评估价格\n",
    "$$P = P_{jizhun} * K$$\n",
    "\n",
    "其中$N$是总楼层，$n$是存量房所在楼层\n",
    "\n",
    "# 中高层公式（不含一楼）：\n",
    "\n",
    "系数\n",
    "    $$K = -0.18040865*(\\frac{n}{N})^2 + 0.21449544 * (\\frac{n}{N}) + 0.948575844$$"
   ]
  },
  {
   "cell_type": "markdown",
   "metadata": {},
   "source": [
    "# 超高层 >= 34"
   ]
  },
  {
   "cell_type": "code",
   "execution_count": null,
   "metadata": {},
   "outputs": [],
   "source": [
    "data2 = data[data['总楼层'] >= 34]\n",
    "x,y = process(data2)\n",
    "pf = PolynomialFeatures(degree=DEGREE)\n",
    "x = x.reshape(-1,1)\n",
    "x = pf.fit_transform(x)\n",
    "model = RidgeCV(alphas=[1e-4,1e-5,1e-3,1e-2,1e-1,1e0])\n",
    "model.fit(x,y)\n",
    "yp = model.predict(x)\n",
    "loss = np.abs(yp-y)/y\n",
    "np.mean(loss)"
   ]
  },
  {
   "cell_type": "code",
   "execution_count": null,
   "metadata": {
    "scrolled": false
   },
   "outputs": [],
   "source": [
    "import matplotlib.pyplot as plt \n",
    "%matplotlib inline\n",
    "plt.figure(figsize=(10,5))\n",
    "plt.scatter(x[:,1],y)\n",
    "plt.scatter(x[:,1],yp)\n",
    "model.intercept_,model.coef_"
   ]
  },
  {
   "cell_type": "markdown",
   "metadata": {},
   "source": [
    "# 超高层公式（不含一楼与顶楼）：\n",
    "\n",
    "系数\n",
    "    $$K = -0.21546597*(\\frac{n}{N})^2 + 0.2572241 * (\\frac{n}{N}) + 0.939861744$$\n",
    "    \n",
    "评估价格\n",
    "$$P = P_{jizhun} * K$$\n",
    "\n",
    "其中$N$是总楼层，$n$是存量房所在楼层\n",
    "\n",
    "# 超高层公式（不含一楼）：\n",
    "\n",
    "系数\n",
    "    $$K = -0.2593945*(\\frac{n}{N})^2 + 0.2955 * (\\frac{n}{N}) + 0.935884$$"
   ]
  },
  {
   "cell_type": "markdown",
   "metadata": {},
   "source": [
    "# 高层19-33"
   ]
  },
  {
   "cell_type": "code",
   "execution_count": null,
   "metadata": {},
   "outputs": [],
   "source": [
    "data3 = data[(data['总楼层'] >= 19)&(data['总楼层'] <=33)]\n",
    "x,y = process(data3)\n",
    "pf = PolynomialFeatures(degree=DEGREE)\n",
    "x = x.reshape(-1,1)\n",
    "x = pf.fit_transform(x)\n",
    "model = RidgeCV(alphas=[1e-4,1e-5,1e-3,1e-2,1e-1,1e0])\n",
    "model.fit(x,y)\n",
    "yp = model.predict(x)\n",
    "loss = np.abs(yp-y)/y\n",
    "np.mean(loss)"
   ]
  },
  {
   "cell_type": "code",
   "execution_count": null,
   "metadata": {},
   "outputs": [],
   "source": [
    "import matplotlib.pyplot as plt \n",
    "%matplotlib inline\n",
    "plt.figure(figsize=(10,5))\n",
    "plt.scatter(x[:,1],y)\n",
    "plt.scatter(x[:,1],yp)\n",
    "model.intercept_,model.coef_"
   ]
  },
  {
   "cell_type": "markdown",
   "metadata": {},
   "source": [
    "## 高层公式（不含一楼和顶楼）：\n",
    "\n",
    "系数\n",
    "    $$K = -0.18965087*(\\frac{n}{N})^2 + 0.23290789 * (\\frac{n}{N}) + 0.9426030836$$\n",
    "    \n",
    "评估价格\n",
    "$$P = P_{jizhun} * K$$\n",
    "\n",
    "其中$N$是总楼层，$n$是存量房所在楼层\n",
    "\n",
    "## 高层公式（不含一楼）：\n",
    "\n",
    "系数\n",
    "    $$K = -0.225208*(\\frac{n}{N})^2 + 0.26472788 * (\\frac{n}{N}) + 0.939017143$$"
   ]
  },
  {
   "cell_type": "code",
   "execution_count": null,
   "metadata": {},
   "outputs": [],
   "source": [
    "data1.shape,data2.shape,data3.shape"
   ]
  }
 ],
 "metadata": {
  "kernelspec": {
   "display_name": "Python 3",
   "language": "python",
   "name": "python3"
  },
  "language_info": {
   "codemirror_mode": {
    "name": "ipython",
    "version": 3
   },
   "file_extension": ".py",
   "mimetype": "text/x-python",
   "name": "python",
   "nbconvert_exporter": "python",
   "pygments_lexer": "ipython3",
   "version": "3.6.3"
  }
 },
 "nbformat": 4,
 "nbformat_minor": 2
}
