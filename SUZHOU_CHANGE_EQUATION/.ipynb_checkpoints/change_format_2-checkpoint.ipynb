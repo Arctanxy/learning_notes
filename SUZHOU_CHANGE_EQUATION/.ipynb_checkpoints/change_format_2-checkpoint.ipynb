{
 "cells": [
  {
   "cell_type": "markdown",
   "metadata": {},
   "source": [
    "# 中高层 8-18（不含一楼）"
   ]
  },
  {
   "cell_type": "code",
   "execution_count": 1,
   "metadata": {},
   "outputs": [
    {
     "name": "stdout",
     "output_type": "stream",
     "text": [
      "<class 'pandas.core.frame.DataFrame'>\n",
      "RangeIndex: 6412 entries, 4300 to 10711\n",
      "Data columns (total 14 columns):\n",
      "城市      6412 non-null object\n",
      "行政区域    6412 non-null object\n",
      "类型      6412 non-null object\n",
      "小区名称    6412 non-null object\n",
      "地址      6392 non-null object\n",
      "所在楼层    6412 non-null int64\n",
      "总楼层     6412 non-null int64\n",
      "面积      6412 non-null float64\n",
      "结构      6412 non-null object\n",
      "建筑年代    6412 non-null int64\n",
      "朝向      6412 non-null object\n",
      "装修      6412 non-null object\n",
      "买卖时间    6412 non-null datetime64[ns]\n",
      "单价      6412 non-null float64\n",
      "dtypes: datetime64[ns](1), float64(2), int64(3), object(8)\n",
      "memory usage: 701.4+ KB\n"
     ]
    }
   ],
   "source": [
    "import pandas as pd \n",
    "data = pd.read_excel(r'C:\\Users\\Dl\\Desktop\\宿州市住宅类可比实例入库版20180529.xlsx')\n",
    "data = data[4300:]\n",
    "data.info()\n",
    "DEGREE = 2"
   ]
  },
  {
   "cell_type": "code",
   "execution_count": 2,
   "metadata": {},
   "outputs": [
    {
     "data": {
      "text/plain": [
       "(1595, 14)"
      ]
     },
     "execution_count": 2,
     "metadata": {},
     "output_type": "execute_result"
    }
   ],
   "source": [
    "data1 = data[(data['总楼层'] >= 8)&(data['总楼层'] <= 18)]\n",
    "data1.shape"
   ]
  },
  {
   "cell_type": "markdown",
   "metadata": {},
   "source": [
    "# 不含一楼和顶楼"
   ]
  },
  {
   "cell_type": "code",
   "execution_count": 5,
   "metadata": {
    "scrolled": true
   },
   "outputs": [
    {
     "name": "stderr",
     "output_type": "stream",
     "text": [
      "D:\\ProgramData\\Anaconda3\\lib\\site-packages\\ipykernel_launcher.py:3: SettingWithCopyWarning: \n",
      "A value is trying to be set on a copy of a slice from a DataFrame.\n",
      "Try using .loc[row_indexer,col_indexer] = value instead\n",
      "\n",
      "See the caveats in the documentation: http://pandas.pydata.org/pandas-docs/stable/indexing.html#indexing-view-versus-copy\n",
      "  This is separate from the ipykernel package so we can avoid doing imports until\n",
      "D:\\ProgramData\\Anaconda3\\lib\\site-packages\\ipykernel_launcher.py:7: SettingWithCopyWarning: \n",
      "A value is trying to be set on a copy of a slice from a DataFrame.\n",
      "Try using .loc[row_indexer,col_indexer] = value instead\n",
      "\n",
      "See the caveats in the documentation: http://pandas.pydata.org/pandas-docs/stable/indexing.html#indexing-view-versus-copy\n",
      "  import sys\n",
      "D:\\ProgramData\\Anaconda3\\lib\\site-packages\\ipykernel_launcher.py:8: SettingWithCopyWarning: \n",
      "A value is trying to be set on a copy of a slice from a DataFrame.\n",
      "Try using .loc[row_indexer,col_indexer] = value instead\n",
      "\n",
      "See the caveats in the documentation: http://pandas.pydata.org/pandas-docs/stable/indexing.html#indexing-view-versus-copy\n",
      "  \n",
      "D:\\ProgramData\\Anaconda3\\lib\\site-packages\\ipykernel_launcher.py:17: FutureWarning: reshape is deprecated and will raise in a subsequent release. Please use .values.reshape(...) instead\n"
     ]
    }
   ],
   "source": [
    "def process(data):\n",
    "    data = data[(data['所在楼层'] != 1)&(data['所在楼层'] != data['总楼层'])]\n",
    "    data['ratio'] = data['所在楼层']/data['总楼层']\n",
    "    pivot_price = {}\n",
    "    for name,group in data.groupby('小区名称'):\n",
    "        pivot_price[name] = group['单价'].mean()\n",
    "    data['pivot'] = data['小区名称'].apply(lambda x:pivot_price[x])\n",
    "    data['ratio_price'] = data['单价']/data['pivot']\n",
    "    data = data[data['ratio_price'] <= 1.2]\n",
    "    x = data['ratio']\n",
    "    y = data['ratio_price']\n",
    "    return x,y\n",
    "x,y = process(data1)\n",
    "from sklearn.preprocessing import PolynomialFeatures\n",
    "import numpy as np \n",
    "pf = PolynomialFeatures(degree=DEGREE)\n",
    "x = x.reshape(-1,1)\n",
    "x = pf.fit_transform(x)"
   ]
  },
  {
   "cell_type": "code",
   "execution_count": 6,
   "metadata": {},
   "outputs": [
    {
     "data": {
      "text/plain": [
       "0.004674282782590163"
      ]
     },
     "execution_count": 6,
     "metadata": {},
     "output_type": "execute_result"
    }
   ],
   "source": [
    "from sklearn.linear_model import RidgeCV\n",
    "model = RidgeCV(alphas=[1e-4,1e-5,1e-3,1e-2,1e-1,1e0])\n",
    "model.fit(x,y)\n",
    "yp = model.predict(x)\n",
    "loss = np.abs(yp-y)/y\n",
    "np.mean(loss)"
   ]
  },
  {
   "cell_type": "code",
   "execution_count": 7,
   "metadata": {},
   "outputs": [
    {
     "data": {
      "text/plain": [
       "<matplotlib.collections.PathCollection at 0xc26c470>"
      ]
     },
     "execution_count": 7,
     "metadata": {},
     "output_type": "execute_result"
    },
    {
     "data": {
      "image/png": "[encoded data removed]",
      "text/plain": [
       "<Figure size 720x360 with 1 Axes>"
      ]
     },
     "metadata": {},
     "output_type": "display_data"
    }
   ],
   "source": [
    "import matplotlib.pyplot as plt \n",
    "%matplotlib inline\n",
    "plt.figure(figsize=(10,5))\n",
    "plt.scatter(x[:,1],y)\n",
    "plt.scatter(x[:,1],yp)"
   ]
  },
  {
   "cell_type": "code",
   "execution_count": 8,
   "metadata": {},
   "outputs": [
    {
     "data": {
      "text/plain": [
       "(0.9574593903950805, array([ 0.        ,  0.15415356, -0.11701955]))"
      ]
     },
     "execution_count": 8,
     "metadata": {},
     "output_type": "execute_result"
    }
   ],
   "source": [
    "model.intercept_,model.coef_"
   ]
  },
  {
   "cell_type": "markdown",
   "metadata": {},
   "source": [
    "## 顶楼"
   ]
  },
  {
   "cell_type": "code",
   "execution_count": null,
   "metadata": {
    "collapsed": true
   },
   "outputs": [],
   "source": [
    "def ding_process(data):\n",
    "    data = data[data['所在楼层'] == data['顶楼']]\n",
    "    data['ratio'] = data['所在楼层']/data['总楼层']\n",
    "    pivot_price = {}\n",
    "    for name,group in data.groupby('小区名称'):\n",
    "        pivot_price[name] = group['单价'].mean()\n",
    "    data['pivot'] = data['小区名称'].apply(lambda x:pivot_price[x])\n",
    "    data['ratio_price'] = data['单价']/data['pivot']\n",
    "    data = data[data['ratio_price'] <= 1.2]\n",
    "    x = data['ratio']\n",
    "    y = data['ratio_price']\n",
    "    return x,y"
   ]
  },
  {
   "cell_type": "markdown",
   "metadata": {},
   "source": [
    "# 中高层公式（不含一楼与顶楼）：\n",
    "\n",
    "系数\n",
    "    $$K = -0.11701955*(\\frac{n}{N})^2 + 0.15415356 * (\\frac{n}{N}) + 0.95745939$$\n",
    "    \n",
    "评估价格\n",
    "$$P = P_{jizhun} * K$$\n",
    "\n",
    "其中$N$是总楼层，$n$是存量房所在楼层\n",
    "\n",
    "# 中高层公式（不含一楼）：\n",
    "\n",
    "系数\n",
    "    $$K = -0.18040865*(\\frac{n}{N})^2 + 0.21449544 * (\\frac{n}{N}) + 0.948575844$$"
   ]
  },
  {
   "cell_type": "markdown",
   "metadata": {},
   "source": [
    "# 超高层 >= 34"
   ]
  },
  {
   "cell_type": "code",
   "execution_count": 7,
   "metadata": {},
   "outputs": [
    {
     "name": "stderr",
     "output_type": "stream",
     "text": [
      "D:\\ProgramData\\Anaconda3\\lib\\site-packages\\ipykernel_launcher.py:3: SettingWithCopyWarning: \n",
      "A value is trying to be set on a copy of a slice from a DataFrame.\n",
      "Try using .loc[row_indexer,col_indexer] = value instead\n",
      "\n",
      "See the caveats in the documentation: http://pandas.pydata.org/pandas-docs/stable/indexing.html#indexing-view-versus-copy\n",
      "  This is separate from the ipykernel package so we can avoid doing imports until\n",
      "D:\\ProgramData\\Anaconda3\\lib\\site-packages\\ipykernel_launcher.py:7: SettingWithCopyWarning: \n",
      "A value is trying to be set on a copy of a slice from a DataFrame.\n",
      "Try using .loc[row_indexer,col_indexer] = value instead\n",
      "\n",
      "See the caveats in the documentation: http://pandas.pydata.org/pandas-docs/stable/indexing.html#indexing-view-versus-copy\n",
      "  import sys\n",
      "D:\\ProgramData\\Anaconda3\\lib\\site-packages\\ipykernel_launcher.py:8: SettingWithCopyWarning: \n",
      "A value is trying to be set on a copy of a slice from a DataFrame.\n",
      "Try using .loc[row_indexer,col_indexer] = value instead\n",
      "\n",
      "See the caveats in the documentation: http://pandas.pydata.org/pandas-docs/stable/indexing.html#indexing-view-versus-copy\n",
      "  \n",
      "D:\\ProgramData\\Anaconda3\\lib\\site-packages\\ipykernel_launcher.py:4: FutureWarning: reshape is deprecated and will raise in a subsequent release. Please use .values.reshape(...) instead\n",
      "  after removing the cwd from sys.path.\n"
     ]
    },
    {
     "data": {
      "text/plain": [
       "0.007039186422406944"
      ]
     },
     "execution_count": 7,
     "metadata": {},
     "output_type": "execute_result"
    }
   ],
   "source": [
    "data2 = data[data['总楼层'] >= 34]\n",
    "x,y = process(data2)\n",
    "pf = PolynomialFeatures(degree=DEGREE)\n",
    "x = x.reshape(-1,1)\n",
    "x = pf.fit_transform(x)\n",
    "model = RidgeCV(alphas=[1e-4,1e-5,1e-3,1e-2,1e-1,1e0])\n",
    "model.fit(x,y)\n",
    "yp = model.predict(x)\n",
    "loss = np.abs(yp-y)/y\n",
    "np.mean(loss)"
   ]
  },
  {
   "cell_type": "code",
   "execution_count": 8,
   "metadata": {
    "scrolled": false
   },
   "outputs": [
    {
     "data": {
      "text/plain": [
       "(0.9474120239898808, array([ 0.        ,  0.24871112, -0.2201802 ]))"
      ]
     },
     "execution_count": 8,
     "metadata": {},
     "output_type": "execute_result"
    },
    {
     "data": {
      "image/png": "[encoded data removed]",
      "text/plain": [
       "<Figure size 720x360 with 1 Axes>"
      ]
     },
     "metadata": {},
     "output_type": "display_data"
    }
   ],
   "source": [
    "import matplotlib.pyplot as plt \n",
    "%matplotlib inline\n",
    "plt.figure(figsize=(10,5))\n",
    "plt.scatter(x[:,1],y)\n",
    "plt.scatter(x[:,1],yp)\n",
    "model.intercept_,model.coef_"
   ]
  },
  {
   "cell_type": "markdown",
   "metadata": {},
   "source": [
    "# 超高层公式（不含一楼与顶楼）：\n",
    "\n",
    "系数\n",
    "    $$K = -0.21546597*(\\frac{n}{N})^2 + 0.2572241 * (\\frac{n}{N}) + 0.939861744$$\n",
    "    \n",
    "评估价格\n",
    "$$P = P_{jizhun} * K$$\n",
    "\n",
    "其中$N$是总楼层，$n$是存量房所在楼层\n",
    "\n",
    "# 超高层公式（不含一楼）：\n",
    "\n",
    "系数\n",
    "    $$K = -0.2593945*(\\frac{n}{N})^2 + 0.2955 * (\\frac{n}{N}) + 0.935884$$"
   ]
  },
  {
   "cell_type": "markdown",
   "metadata": {},
   "source": [
    "# 高层19-33"
   ]
  },
  {
   "cell_type": "code",
   "execution_count": 9,
   "metadata": {},
   "outputs": [
    {
     "name": "stderr",
     "output_type": "stream",
     "text": [
      "D:\\ProgramData\\Anaconda3\\lib\\site-packages\\ipykernel_launcher.py:3: SettingWithCopyWarning: \n",
      "A value is trying to be set on a copy of a slice from a DataFrame.\n",
      "Try using .loc[row_indexer,col_indexer] = value instead\n",
      "\n",
      "See the caveats in the documentation: http://pandas.pydata.org/pandas-docs/stable/indexing.html#indexing-view-versus-copy\n",
      "  This is separate from the ipykernel package so we can avoid doing imports until\n",
      "D:\\ProgramData\\Anaconda3\\lib\\site-packages\\ipykernel_launcher.py:7: SettingWithCopyWarning: \n",
      "A value is trying to be set on a copy of a slice from a DataFrame.\n",
      "Try using .loc[row_indexer,col_indexer] = value instead\n",
      "\n",
      "See the caveats in the documentation: http://pandas.pydata.org/pandas-docs/stable/indexing.html#indexing-view-versus-copy\n",
      "  import sys\n",
      "D:\\ProgramData\\Anaconda3\\lib\\site-packages\\ipykernel_launcher.py:8: SettingWithCopyWarning: \n",
      "A value is trying to be set on a copy of a slice from a DataFrame.\n",
      "Try using .loc[row_indexer,col_indexer] = value instead\n",
      "\n",
      "See the caveats in the documentation: http://pandas.pydata.org/pandas-docs/stable/indexing.html#indexing-view-versus-copy\n",
      "  \n",
      "D:\\ProgramData\\Anaconda3\\lib\\site-packages\\ipykernel_launcher.py:4: FutureWarning: reshape is deprecated and will raise in a subsequent release. Please use .values.reshape(...) instead\n",
      "  after removing the cwd from sys.path.\n"
     ]
    },
    {
     "data": {
      "text/plain": [
       "0.01238464846432146"
      ]
     },
     "execution_count": 9,
     "metadata": {},
     "output_type": "execute_result"
    }
   ],
   "source": [
    "data3 = data[(data['总楼层'] >= 19)&(data['总楼层'] <=33)]\n",
    "x,y = process(data3)\n",
    "pf = PolynomialFeatures(degree=DEGREE)\n",
    "x = x.reshape(-1,1)\n",
    "x = pf.fit_transform(x)\n",
    "model = RidgeCV(alphas=[1e-4,1e-5,1e-3,1e-2,1e-1,1e0])\n",
    "model.fit(x,y)\n",
    "yp = model.predict(x)\n",
    "loss = np.abs(yp-y)/y\n",
    "np.mean(loss)"
   ]
  },
  {
   "cell_type": "code",
   "execution_count": 10,
   "metadata": {},
   "outputs": [
    {
     "data": {
      "text/plain": [
       "(0.9677260302380458, array([ 0.        ,  0.15135274, -0.13476174]))"
      ]
     },
     "execution_count": 10,
     "metadata": {},
     "output_type": "execute_result"
    },
    {
     "data": {
      "image/png": "[encoded data removed]",
      "text/plain": [
       "<Figure size 720x360 with 1 Axes>"
      ]
     },
     "metadata": {},
     "output_type": "display_data"
    }
   ],
   "source": [
    "import matplotlib.pyplot as plt \n",
    "%matplotlib inline\n",
    "plt.figure(figsize=(10,5))\n",
    "plt.scatter(x[:,1],y)\n",
    "plt.scatter(x[:,1],yp)\n",
    "model.intercept_,model.coef_"
   ]
  },
  {
   "cell_type": "markdown",
   "metadata": {},
   "source": [
    "## 高层公式（不含一楼和顶楼）：\n",
    "\n",
    "系数\n",
    "    $$K = -0.18965087*(\\frac{n}{N})^2 + 0.23290789 * (\\frac{n}{N}) + 0.9426030836$$\n",
    "    \n",
    "评估价格\n",
    "$$P = P_{jizhun} * K$$\n",
    "\n",
    "其中$N$是总楼层，$n$是存量房所在楼层\n",
    "\n",
    "## 高层公式（不含一楼）：\n",
    "\n",
    "系数\n",
    "    $$K = -0.225208*(\\frac{n}{N})^2 + 0.26472788 * (\\frac{n}{N}) + 0.939017143$$"
   ]
  },
  {
   "cell_type": "code",
   "execution_count": 11,
   "metadata": {},
   "outputs": [
    {
     "data": {
      "text/plain": [
       "((1595, 17), (66, 17), (2590, 17))"
      ]
     },
     "execution_count": 11,
     "metadata": {},
     "output_type": "execute_result"
    }
   ],
   "source": [
    "data1.shape,data2.shape,data3.shape"
   ]
  }
 ],
 "metadata": {
  "kernelspec": {
   "display_name": "Python 3",
   "language": "python",
   "name": "python3"
  },
  "language_info": {
   "codemirror_mode": {
    "name": "ipython",
    "version": 3
   },
   "file_extension": ".py",
   "mimetype": "text/x-python",
   "name": "python",
   "nbconvert_exporter": "python",
   "pygments_lexer": "ipython3",
   "version": "3.6.3"
  }
 },
 "nbformat": 4,
 "nbformat_minor": 2
}
