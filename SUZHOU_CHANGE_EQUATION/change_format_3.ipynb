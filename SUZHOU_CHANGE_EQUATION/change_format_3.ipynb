{
 "cells": [
  {
   "cell_type": "markdown",
   "metadata": {
    "collapsed": true
   },
   "source": [
    "# 修改公式——3\n",
    "\n",
    "一楼和顶楼使用单独公式\n",
    "\n",
    "其他楼层使用同样公式"
   ]
  },
  {
   "cell_type": "markdown",
   "metadata": {},
   "source": [
    "## 中高层一楼公式"
   ]
  },
  {
   "cell_type": "code",
   "execution_count": 1,
   "metadata": {},
   "outputs": [
    {
     "name": "stdout",
     "output_type": "stream",
     "text": [
      "<class 'pandas.core.frame.DataFrame'>\n",
      "RangeIndex: 6412 entries, 4300 to 10711\n",
      "Data columns (total 14 columns):\n",
      "城市      6412 non-null object\n",
      "行政区域    6412 non-null object\n",
      "类型      6412 non-null object\n",
      "小区名称    6412 non-null object\n",
      "地址      6392 non-null object\n",
      "所在楼层    6412 non-null int64\n",
      "总楼层     6412 non-null int64\n",
      "面积      6412 non-null float64\n",
      "结构      6412 non-null object\n",
      "建筑年代    6412 non-null int64\n",
      "朝向      6412 non-null object\n",
      "装修      6412 non-null object\n",
      "买卖时间    6412 non-null datetime64[ns]\n",
      "单价      6412 non-null float64\n",
      "dtypes: datetime64[ns](1), float64(2), int64(3), object(8)\n",
      "memory usage: 701.4+ KB\n"
     ]
    }
   ],
   "source": [
    "import pandas as pd \n",
    "data = pd.read_excel(r'C:\\Users\\Dl\\Desktop\\宿州市住宅类可比实例入库版20180529.xlsx')\n",
    "data = data[4300:]\n",
    "data.info()\n",
    "DEGREE = 3"
   ]
  },
  {
   "cell_type": "code",
   "execution_count": 2,
   "metadata": {},
   "outputs": [
    {
     "name": "stderr",
     "output_type": "stream",
     "text": [
      "D:\\ProgramData\\Anaconda3\\lib\\site-packages\\ipykernel_launcher.py:6: SettingWithCopyWarning: \n",
      "A value is trying to be set on a copy of a slice from a DataFrame.\n",
      "Try using .loc[row_indexer,col_indexer] = value instead\n",
      "\n",
      "See the caveats in the documentation: http://pandas.pydata.org/pandas-docs/stable/indexing.html#indexing-view-versus-copy\n",
      "  \n",
      "D:\\ProgramData\\Anaconda3\\lib\\site-packages\\ipykernel_launcher.py:10: SettingWithCopyWarning: \n",
      "A value is trying to be set on a copy of a slice from a DataFrame.\n",
      "Try using .loc[row_indexer,col_indexer] = value instead\n",
      "\n",
      "See the caveats in the documentation: http://pandas.pydata.org/pandas-docs/stable/indexing.html#indexing-view-versus-copy\n",
      "  # Remove the CWD from sys.path while we load stuff.\n",
      "D:\\ProgramData\\Anaconda3\\lib\\site-packages\\ipykernel_launcher.py:11: SettingWithCopyWarning: \n",
      "A value is trying to be set on a copy of a slice from a DataFrame.\n",
      "Try using .loc[row_indexer,col_indexer] = value instead\n",
      "\n",
      "See the caveats in the documentation: http://pandas.pydata.org/pandas-docs/stable/indexing.html#indexing-view-versus-copy\n",
      "  # This is added back by InteractiveShellApp.init_path()\n",
      "D:\\ProgramData\\Anaconda3\\lib\\site-packages\\ipykernel_launcher.py:25: FutureWarning: reshape is deprecated and will raise in a subsequent release. Please use .values.reshape(...) instead\n"
     ]
    },
    {
     "data": {
      "text/plain": [
       "<matplotlib.collections.PathCollection at 0xbb85470>"
      ]
     },
     "execution_count": 2,
     "metadata": {},
     "output_type": "execute_result"
    },
    {
     "data": {
      "image/png": "[encoded data removed]",
      "text/plain": [
       "<Figure size 432x288 with 1 Axes>"
      ]
     },
     "metadata": {},
     "output_type": "display_data"
    }
   ],
   "source": [
    "def divide_data(data,rg = [8,18]):\n",
    "    return data[(data['总楼层']>=8)&(data['总楼层']<=18)]\n",
    "\n",
    "def process(data):\n",
    "    # data = data[(data['所在楼层'] != 1)&(data['所在楼层'] != data['总楼层'])]\n",
    "    data['ratio'] = data['所在楼层']/data['总楼层']\n",
    "    pivot_price = {}\n",
    "    for name,group in data.groupby('小区名称'):\n",
    "        pivot_price[name] = group['单价'].mean()\n",
    "    data['pivot'] = data['小区名称'].apply(lambda x:pivot_price[x])\n",
    "    data['ratio_price'] = data['单价']/data['pivot']\n",
    "    return data\n",
    "\n",
    "data1 = divide_data(data)\n",
    "data1 = process(data1)\n",
    "data1 = data1[data1['所在楼层']==1]\n",
    "x = data1['ratio']\n",
    "y = data1['ratio_price']\n",
    "from sklearn.linear_model import RidgeCV\n",
    "import matplotlib.pyplot as plt\n",
    "%matplotlib inline\n",
    "from sklearn.preprocessing import PolynomialFeatures\n",
    "import numpy as np \n",
    "pf = PolynomialFeatures(degree=DEGREE)\n",
    "x = x.reshape(-1,1)\n",
    "x = pf.fit_transform(x)\n",
    "clf = RidgeCV(alphas=[1e-5,1e-4,1e-3,1e-2,1e-1,1])\n",
    "clf.fit(x,y)\n",
    "yp = clf.predict(x)\n",
    "plt.scatter(x[:,1],y)\n",
    "plt.scatter(x[:,1],yp,color='g')\n"
   ]
  },
  {
   "cell_type": "code",
   "execution_count": 4,
   "metadata": {},
   "outputs": [
    {
     "name": "stderr",
     "output_type": "stream",
     "text": [
      "D:\\ProgramData\\Anaconda3\\lib\\site-packages\\ipykernel_launcher.py:6: FutureWarning: reshape is deprecated and will raise in a subsequent release. Please use .values.reshape(...) instead\n",
      "  \n"
     ]
    },
    {
     "data": {
      "text/plain": [
       "<matplotlib.collections.PathCollection at 0xc19e390>"
      ]
     },
     "execution_count": 4,
     "metadata": {},
     "output_type": "execute_result"
    },
    {
     "data": {
      "image/png": "[encoded data removed]",
      "text/plain": [
       "<Figure size 432x288 with 1 Axes>"
      ]
     },
     "metadata": {},
     "output_type": "display_data"
    }
   ],
   "source": [
    "data = process(data)\n",
    "data2 = data[(data['总楼层']>=8)&(data['所在楼层']==1)&(data['总楼层']<=18)]\n",
    "# data = data[(data['总楼层']>=8)]\n",
    "a = data2['总楼层']\n",
    "b = data2['ratio_price']\n",
    "a = a.reshape(-1,1)\n",
    "a = pf.fit_transform(a)\n",
    "clf.fit(a,b)\n",
    "bp = clf.predict(a)\n",
    "plt.scatter(a[:,1],b)\n",
    "plt.scatter(a[:,1],bp)"
   ]
  },
  {
   "cell_type": "code",
   "execution_count": 5,
   "metadata": {},
   "outputs": [
    {
     "data": {
      "text/plain": [
       "(array([ 0.00000000e+00, -1.54738265e-02,  1.33860137e-03, -3.66947988e-05]),\n",
       " 1.143151030977005)"
      ]
     },
     "execution_count": 5,
     "metadata": {},
     "output_type": "execute_result"
    }
   ],
   "source": [
    "clf.coef_,clf.intercept_"
   ]
  },
  {
   "cell_type": "code",
   "execution_count": 6,
   "metadata": {},
   "outputs": [
    {
     "name": "stderr",
     "output_type": "stream",
     "text": [
      "D:\\ProgramData\\Anaconda3\\lib\\site-packages\\ipykernel_launcher.py:5: FutureWarning: reshape is deprecated and will raise in a subsequent release. Please use .values.reshape(...) instead\n",
      "  \"\"\"\n"
     ]
    },
    {
     "data": {
      "text/plain": [
       "(array([ 0.00000000e+00,  4.52393685e-01, -1.74461030e-02,  2.18679081e-04]),\n",
       " -2.7133170646030784)"
      ]
     },
     "execution_count": 6,
     "metadata": {},
     "output_type": "execute_result"
    },
    {
     "data": {
      "image/png": "[encoded data removed]",
      "text/plain": [
       "<Figure size 432x288 with 1 Axes>"
      ]
     },
     "metadata": {},
     "output_type": "display_data"
    }
   ],
   "source": [
    "data3 = data[(data['总楼层']>=19)&(data['所在楼层']==1)&(data['总楼层']<=33)]\n",
    "# data = data[(data['总楼层']>=8)]\n",
    "a = data3['总楼层']\n",
    "b = data3['ratio_price']\n",
    "a = a.reshape(-1,1)\n",
    "a = pf.fit_transform(a)\n",
    "clf.fit(a,b)\n",
    "bp = clf.predict(a)\n",
    "plt.scatter(a[:,1],b)\n",
    "plt.scatter(a[:,1],bp)\n",
    "clf.coef_,clf.intercept_"
   ]
  },
  {
   "cell_type": "code",
   "execution_count": 9,
   "metadata": {},
   "outputs": [
    {
     "name": "stderr",
     "output_type": "stream",
     "text": [
      "D:\\ProgramData\\Anaconda3\\lib\\site-packages\\ipykernel_launcher.py:5: FutureWarning: reshape is deprecated and will raise in a subsequent release. Please use .values.reshape(...) instead\n",
      "  \"\"\"\n",
      "D:\\ProgramData\\Anaconda3\\lib\\site-packages\\sklearn\\linear_model\\ridge.py:928: RuntimeWarning: invalid value encountered in true_divide\n",
      "  return (c / G_diag) ** 2, c\n"
     ]
    },
    {
     "data": {
      "text/plain": [
       "(array([0., 0., 0., 0.]), 0.9963161419959813)"
      ]
     },
     "execution_count": 9,
     "metadata": {},
     "output_type": "execute_result"
    },
    {
     "data": {
      "image/png": "[encoded data removed]",
      "text/plain": [
       "<Figure size 432x288 with 1 Axes>"
      ]
     },
     "metadata": {},
     "output_type": "display_data"
    }
   ],
   "source": [
    "data4 = data[(data['总楼层']>=34)&(data['所在楼层']==1)&(data['总楼层']<=45)]\n",
    "# data = data[(data['总楼层']>=8)]\n",
    "a = data4['总楼层']\n",
    "b = data4['ratio_price']\n",
    "a = a.reshape(-1,1)\n",
    "a = pf.fit_transform(a)\n",
    "clf.fit(a,b)\n",
    "bp = clf.predict(a)\n",
    "plt.scatter(a[:,1],b)\n",
    "plt.scatter(a[:,1],bp)\n",
    "clf.coef_,clf.intercept_"
   ]
  },
  {
   "cell_type": "code",
   "execution_count": 11,
   "metadata": {},
   "outputs": [
    {
     "name": "stderr",
     "output_type": "stream",
     "text": [
      "D:\\ProgramData\\Anaconda3\\lib\\site-packages\\ipykernel_launcher.py:4: FutureWarning: reshape is deprecated and will raise in a subsequent release. Please use .values.reshape(...) instead\n",
      "  after removing the cwd from sys.path.\n"
     ]
    },
    {
     "data": {
      "text/plain": [
       "(array([ 0.00000000e+00,  1.75902176e-02, -1.02266166e-03,  1.64199755e-05]),\n",
       " 1.0180862778221988)"
      ]
     },
     "execution_count": 11,
     "metadata": {},
     "output_type": "execute_result"
    },
    {
     "data": {
      "image/png": "[encoded data removed]",
      "text/plain": [
       "<Figure size 432x288 with 1 Axes>"
      ]
     },
     "metadata": {},
     "output_type": "display_data"
    }
   ],
   "source": [
    "data5 = data[data['所在楼层']==1]\n",
    "a = data5['总楼层']\n",
    "b = data5['ratio_price']\n",
    "a = a.reshape(-1,1)\n",
    "a = pf.fit_transform(a)\n",
    "clf.fit(a,b)\n",
    "bp = clf.predict(a)\n",
    "plt.scatter(a[:,1],b)\n",
    "plt.scatter(a[:,1],bp)\n",
    "clf.coef_,clf.intercept_"
   ]
  }
 ],
 "metadata": {
  "kernelspec": {
   "display_name": "Python 3",
   "language": "python",
   "name": "python3"
  },
  "language_info": {
   "codemirror_mode": {
    "name": "ipython",
    "version": 3
   },
   "file_extension": ".py",
   "mimetype": "text/x-python",
   "name": "python",
   "nbconvert_exporter": "python",
   "pygments_lexer": "ipython3",
   "version": "3.6.3"
  }
 },
 "nbformat": 4,
 "nbformat_minor": 1
}
