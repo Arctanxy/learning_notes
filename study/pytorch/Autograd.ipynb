{
 "cells": [
  {
   "cell_type": "markdown",
   "metadata": {},
   "source": [
    "Autograd"
   ]
  },
  {
   "cell_type": "markdown",
   "metadata": {},
   "source": [
    "Autograd是Pytorch的核心部件，是其训练神经网络的基础。"
   ]
  },
  {
   "cell_type": "markdown",
   "metadata": {},
   "source": [
    "如果把张量的.requires_grad设置为True,autograd就会跟踪该变量上发生的各种操作，计算完成之后调用.backward()方法，张量的梯度就会自动计算，得到的梯度将会写入张量的.grad属性中。"
   ]
  },
  {
   "cell_type": "markdown",
   "metadata": {},
   "source": [
    "调用张量的.detach()方法就可以终止系统对于该张量的跟踪。"
   ]
  },
  {
   "cell_type": "markdown",
   "metadata": {},
   "source": [
    "也可使用with torch.no_grad():，尤其是在评估模型的时候，我们不需要用到梯度，所以可以取消对梯度的跟踪。"
   ]
  },
  {
   "cell_type": "markdown",
   "metadata": {},
   "source": [
    "在自动梯度计算中，还有一个很重要的因素：Function,即生成该张量的函数。如果是由用户初始化而来的张量，其.grad_fn属性为None"
   ]
  },
  {
   "cell_type": "markdown",
   "metadata": {},
   "source": [
    "如果你要计算某个张量的梯度，可以调用张量的.backward()方法。"
   ]
  },
  {
   "cell_type": "code",
   "execution_count": 1,
   "metadata": {},
   "outputs": [
    {
     "data": {
      "text/plain": [
       "tensor([[ 1.,  1.],\n",
       "        [ 1.,  1.]])"
      ]
     },
     "execution_count": 1,
     "metadata": {},
     "output_type": "execute_result"
    }
   ],
   "source": [
    "import torch\n",
    "x = torch.ones(2,2,requires_grad = True)\n",
    "x"
   ]
  },
  {
   "cell_type": "code",
   "execution_count": 2,
   "metadata": {},
   "outputs": [
    {
     "data": {
      "text/plain": [
       "tensor([[ 3.,  3.],\n",
       "        [ 3.,  3.]])"
      ]
     },
     "execution_count": 2,
     "metadata": {},
     "output_type": "execute_result"
    }
   ],
   "source": [
    "y = x + 2\n",
    "y"
   ]
  },
  {
   "cell_type": "code",
   "execution_count": 3,
   "metadata": {},
   "outputs": [
    {
     "data": {
      "text/plain": [
       "<AddBackward0 at 0x5776940>"
      ]
     },
     "execution_count": 3,
     "metadata": {},
     "output_type": "execute_result"
    }
   ],
   "source": [
    "y.grad_fn"
   ]
  },
  {
   "cell_type": "code",
   "execution_count": 4,
   "metadata": {},
   "outputs": [
    {
     "data": {
      "text/plain": [
       "(tensor([[ 27.,  27.],\n",
       "         [ 27.,  27.]]), tensor(27.))"
      ]
     },
     "execution_count": 4,
     "metadata": {},
     "output_type": "execute_result"
    }
   ],
   "source": [
    "z = y * y * 3\n",
    "out = z.mean()\n",
    "z,out"
   ]
  },
  {
   "cell_type": "code",
   "execution_count": 5,
   "metadata": {
    "collapsed": true
   },
   "outputs": [],
   "source": [
    "out.backward()"
   ]
  },
  {
   "cell_type": "code",
   "execution_count": 6,
   "metadata": {},
   "outputs": [
    {
     "data": {
      "text/plain": [
       "tensor([[ 4.5000,  4.5000],\n",
       "        [ 4.5000,  4.5000]])"
      ]
     },
     "execution_count": 6,
     "metadata": {},
     "output_type": "execute_result"
    }
   ],
   "source": [
    "x.grad"
   ]
  },
  {
   "cell_type": "markdown",
   "metadata": {},
   "source": [
    "$$out = \\frac{1}{4}\\sum_i^n z_i = \\frac{1}{4} \\sum_i^n 3(x_i + 2)^2 $$\n",
    "\n",
    "求导得到：\n",
    "\n",
    "$$\\frac{\\partial out}{\\partial x} = \\frac{1}{4}\\sum_i^n (6x_i + 12) = \\sum_i^n (1.5x_i + 3)$$\n",
    "\n",
    "对单个元素而言\n",
    "\n",
    "$$\\frac{\\partial out}{\\partial x_i} = 1.5x_i + 3$$\n",
    "\n",
    "当$x_i == 1时$ \n",
    "\n",
    "$$\\frac{\\partial out}{\\partial x_i}|_{x_i = 1} = 1.5 + 3 = 4.5 $$"
   ]
  },
  {
   "cell_type": "markdown",
   "metadata": {
    "collapsed": true
   },
   "source": [
    "backward()方法只能对标量调用，即只有一个值的张量。对向量使用会出现报错，并且只有叶子节点（用户自定义的变量，而非计算生成的变量）才能输出grad，其他变量的grad为None。"
   ]
  },
  {
   "cell_type": "code",
   "execution_count": 9,
   "metadata": {
    "scrolled": true
   },
   "outputs": [],
   "source": [
    "y.grad"
   ]
  }
 ],
 "metadata": {
  "kernelspec": {
   "display_name": "Python 3",
   "language": "python",
   "name": "python3"
  },
  "language_info": {
   "codemirror_mode": {
    "name": "ipython",
    "version": 3
   },
   "file_extension": ".py",
   "mimetype": "text/x-python",
   "name": "python",
   "nbconvert_exporter": "python",
   "pygments_lexer": "ipython3",
   "version": "3.6.3"
  }
 },
 "nbformat": 4,
 "nbformat_minor": 2
}
